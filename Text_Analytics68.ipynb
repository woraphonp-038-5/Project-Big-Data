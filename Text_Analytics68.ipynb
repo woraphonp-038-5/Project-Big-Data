{
  "cells": [
    {
      "cell_type": "markdown",
      "id": "2e4a7b28",
      "metadata": {
        "id": "2e4a7b28"
      },
      "source": [
        "# Mini Project 1: Text Analytics"
      ]
    },
    {
      "cell_type": "markdown",
      "id": "8856eee3",
      "metadata": {
        "id": "8856eee3"
      },
      "source": [
        "<img src=\"https://www.datanami.com/wp-content/uploads/2014/06/text-analytics.png\" width=\"500\" />"
      ]
    },
    {
      "cell_type": "markdown",
      "id": "1d9f7e55",
      "metadata": {
        "id": "1d9f7e55"
      },
      "source": [
        "ชื่อกลุ่ม: เฟิร์สมินอย"
      ]
    },
    {
      "cell_type": "markdown",
      "id": "6525cabe",
      "metadata": {
        "id": "6525cabe"
      },
      "source": [
        "รายชื่อสมาชิก การแบ่งงาน และสัดส่วนในการทำงาน:\n",
        "1. นายวรพล พลตรี 663020038-5\n",
        "2. นายวิศรุค แสนบึง 663020296-3\n",
        "3. นางสาวพัชรี ดียา\n",
        "4. นางสาวศิริวรรณ นวลวัน 663020585-6\n",
        "5. นายเสฎฐวุฒิ นาคสังข์ 663020586-4"
      ]
    },
    {
      "cell_type": "markdown",
      "id": "475c076b",
      "metadata": {
        "id": "475c076b"
      },
      "source": [
        "กำหนดส่ง: อาทิตย์ 5 ตุลาคม 2568 \\\n",
        "รายงานในชั้นเรียน: จันทร์ 6 ตุลาคม 2568"
      ]
    },
    {
      "cell_type": "markdown",
      "id": "6d7668b9",
      "metadata": {
        "id": "6d7668b9"
      },
      "source": [
        "**ผลที่คาดหวังจากการทำงานนี้**\n",
        "* สามารถใช้ Python ในการอ่านข้อมูล\n",
        "* จัดการกับข้อมูลเบื้องต้นในรูปแบบข้อความก่อนนำไปวิเคราะห์\n",
        "* สามารถวิเคราะห์ข้อมูลตัวอักษรเบื้องต้นและสร้าง Data Visualization ที่เหมาะสมได้\n",
        "----------------------"
      ]
    },
    {
      "cell_type": "raw",
      "id": "0365f89e",
      "metadata": {
        "id": "0365f89e"
      },
      "source": [
        "\"\"\"\n",
        "# reading data sets from Google Drive\n",
        "from google.colab import drive\n",
        "drive.mount('/content/drive')\n",
        "\"\"\""
      ]
    },
    {
      "cell_type": "code",
      "execution_count": null,
      "id": "76bc1ee7",
      "metadata": {
        "id": "76bc1ee7",
        "colab": {
          "base_uri": "https://localhost:8080/"
        },
        "outputId": "ebfe13ee-4c23-4af4-fc59-4c1df236b894",
        "collapsed": true
      },
      "outputs": [
        {
          "output_type": "stream",
          "name": "stdout",
          "text": [
            "Requirement already satisfied: nltk in /usr/local/lib/python3.12/dist-packages (3.9.1)\n",
            "Requirement already satisfied: click in /usr/local/lib/python3.12/dist-packages (from nltk) (8.2.1)\n",
            "Requirement already satisfied: joblib in /usr/local/lib/python3.12/dist-packages (from nltk) (1.5.2)\n",
            "Requirement already satisfied: regex>=2021.8.3 in /usr/local/lib/python3.12/dist-packages (from nltk) (2024.11.6)\n",
            "Requirement already satisfied: tqdm in /usr/local/lib/python3.12/dist-packages (from nltk) (4.67.1)\n",
            "Requirement already satisfied: wordcloud in /usr/local/lib/python3.12/dist-packages (1.9.4)\n",
            "Requirement already satisfied: numpy>=1.6.1 in /usr/local/lib/python3.12/dist-packages (from wordcloud) (2.0.2)\n",
            "Requirement already satisfied: pillow in /usr/local/lib/python3.12/dist-packages (from wordcloud) (11.3.0)\n",
            "Requirement already satisfied: matplotlib in /usr/local/lib/python3.12/dist-packages (from wordcloud) (3.10.0)\n",
            "Requirement already satisfied: contourpy>=1.0.1 in /usr/local/lib/python3.12/dist-packages (from matplotlib->wordcloud) (1.3.3)\n",
            "Requirement already satisfied: cycler>=0.10 in /usr/local/lib/python3.12/dist-packages (from matplotlib->wordcloud) (0.12.1)\n",
            "Requirement already satisfied: fonttools>=4.22.0 in /usr/local/lib/python3.12/dist-packages (from matplotlib->wordcloud) (4.60.0)\n",
            "Requirement already satisfied: kiwisolver>=1.3.1 in /usr/local/lib/python3.12/dist-packages (from matplotlib->wordcloud) (1.4.9)\n",
            "Requirement already satisfied: packaging>=20.0 in /usr/local/lib/python3.12/dist-packages (from matplotlib->wordcloud) (25.0)\n",
            "Requirement already satisfied: pyparsing>=2.3.1 in /usr/local/lib/python3.12/dist-packages (from matplotlib->wordcloud) (3.2.4)\n",
            "Requirement already satisfied: python-dateutil>=2.7 in /usr/local/lib/python3.12/dist-packages (from matplotlib->wordcloud) (2.9.0.post0)\n",
            "Requirement already satisfied: six>=1.5 in /usr/local/lib/python3.12/dist-packages (from python-dateutil>=2.7->matplotlib->wordcloud) (1.17.0)\n",
            "Requirement already satisfied: Pillow in /usr/local/lib/python3.12/dist-packages (11.3.0)\n"
          ]
        }
      ],
      "source": [
        "# หากไม่สามารถลง library ใด ให้ดาวน์โหลดดังตัวอย่างต่อไปนี้\n",
        "!pip install nltk\n",
        "!pip install wordcloud\n",
        "!pip install Pillow\n",
        "# Load these libraries\n",
        "import json\n",
        "import pprint\n",
        "import pandas as pd\n",
        "import numpy as np\n",
        "from io import StringIO # using StringIO to prevent ValueError\n",
        "from os import path\n",
        "from PIL import Image\n",
        "from wordcloud import WordCloud, STOPWORDS, ImageColorGenerator\n",
        "import nltk\n",
        "import urllib.request\n",
        "\n",
        "import matplotlib.pyplot as plt\n",
        "%matplotlib inline"
      ]
    },
    {
      "cell_type": "markdown",
      "id": "3dc6dd2d",
      "metadata": {
        "id": "3dc6dd2d"
      },
      "source": [
        "## Problem 1: Working with Twitter Data and JSON file\n",
        "*หมายเหตุ: ไม่ต้องนำเสนอข้อนี้*\n",
        "\n",
        "จากข้อมูลทวิตเตอร์เกี่ยวกับประเทศไทยที่เก็บในวันที่ 31 สิงหาคม 2565 ในรูปแบบ JSON จาก `thailand_tweets.txt` ซึ่งมีการดึงข้อมูลมาด้วยคีเวิร์ด \"Thailand\" ให้ทำการศึกษาข้อมูลและดึงค่าจากข้อมูล \\\n",
        "ทั้งนี้เราสามารถเรียกหน้าทวีตจาก tweet ID ได้ดังนี้\n",
        "```\n",
        "twitter.com/anyuser/status/<tweet_id>\n",
        "```\n"
      ]
    },
    {
      "cell_type": "markdown",
      "id": "dc264559",
      "metadata": {
        "id": "dc264559"
      },
      "source": [
        "#### Read JSON file"
      ]
    },
    {
      "cell_type": "code",
      "source": [
        "from google.colab import drive\n",
        "drive.mount('/content/drive')"
      ],
      "metadata": {
        "colab": {
          "base_uri": "https://localhost:8080/"
        },
        "id": "R59EbYhxvKrA",
        "outputId": "ffb59251-d64f-47e0-e611-4a0963847e71"
      },
      "id": "R59EbYhxvKrA",
      "execution_count": null,
      "outputs": [
        {
          "output_type": "stream",
          "name": "stdout",
          "text": [
            "Mounted at /content/drive\n"
          ]
        }
      ]
    },
    {
      "cell_type": "code",
      "source": [
        "# เปลี่ยน path ตรงนี้\n",
        "file_path = data = '/content/drive/MyDrive/ProjectBigData/thailand_tweets.txt'"
      ],
      "metadata": {
        "id": "Sd41_OQ7vmCS"
      },
      "id": "Sd41_OQ7vmCS",
      "execution_count": null,
      "outputs": []
    },
    {
      "cell_type": "code",
      "source": [],
      "metadata": {
        "id": "jEO6ocwG1iEW"
      },
      "id": "jEO6ocwG1iEW",
      "execution_count": null,
      "outputs": []
    },
    {
      "cell_type": "markdown",
      "id": "89203da4",
      "metadata": {
        "id": "89203da4"
      },
      "source": [
        "#### Inspect data in JSON format (either reading using pretty print or Pandas data frame)"
      ]
    },
    {
      "cell_type": "code",
      "source": [
        "# ----------------- Your code here -----------------\n"
      ],
      "metadata": {
        "id": "GQPJsm558lLH"
      },
      "id": "GQPJsm558lLH",
      "execution_count": null,
      "outputs": []
    },
    {
      "cell_type": "markdown",
      "id": "e421eb6b",
      "metadata": {
        "id": "e421eb6b"
      },
      "source": [
        "#### Report: จงตอบคำถามต่อไปนี้\n",
        "* The total number of tweets collected in the file\n",
        "* The content of the first tweet:\n",
        "* Is the first tweet contained any hashtags or mentions?\n",
        "* Collect all hashtags related to Thailand from this data\n",
        "* Find the most popular tweets in your collection of tweets, i.e. the tweets with the largest number of retweet/replies/likes counts  \n",
        "* Display the top 5 tweets that are the most popular among your collection \\\n",
        "สามารถใช้ `np.argsort(<list>)[:5]` ซึ่งจะแสดงผล indices ของการเรียงค่าจากน้อยสุดไปมากสุด จำนวน 5 ค่า และ `np.argsort(<list>)[::-1][:5]` จะแสดงผล indices ของการเรียงค่าจากมากไปน้อยจำนวน 5 ค่า (https://numpy.org/doc/stable/reference/generated/numpy.argsort.html)\n",
        "* Create a word cloud of words in the contents; however, we note that this word cloud is not a good representation of Thailand as the data size is small"
      ]
    },
    {
      "cell_type": "markdown",
      "id": "383b25c2",
      "metadata": {
        "id": "383b25c2"
      },
      "source": [
        "## Problem 2: Study Collected Yelp Reviews"
      ]
    },
    {
      "cell_type": "markdown",
      "id": "f04969cf",
      "metadata": {
        "id": "f04969cf"
      },
      "source": [
        "![](https://techcrunch.com/wp-content/uploads/2022/08/Yelp-Android_Full-Experience.jpg?w=1390&crop=1)"
      ]
    },
    {
      "cell_type": "markdown",
      "id": "4069d9f2",
      "metadata": {
        "id": "4069d9f2"
      },
      "source": [
        "ดาวน์โหลด Yelp dataset เกี่ยวกับรีวิวของผู้ใช้บริการธุรกิจต่าง ๆ จาก https://www.yelp.com/dataset\n",
        "<br>\n",
        "รายละเอียดข้อมูล https://www.yelp.com/dataset/documentation/main\n",
        "<br>\n",
        "ให้ศึกษาข้อมูลจากไฟล์ yelp_academic_dataset_review.json, yelp_academic_dataset_business.json, และ yelp_academic_dataset_user.json"
      ]
    },
    {
      "cell_type": "markdown",
      "id": "d4692d1f",
      "metadata": {
        "id": "d4692d1f"
      },
      "source": [
        "### อ่านข้อมูล Reviews, Businesses, และ Users เป็นจำนวน 100,000 รีวิว"
      ]
    },
    {
      "cell_type": "code",
      "execution_count": null,
      "id": "1be6476f",
      "metadata": {
        "id": "1be6476f"
      },
      "outputs": [],
      "source": [
        "# เปลี่ยน path ของ working directory เช่น ที่ไหนใน Google Drive\n",
        "myDirectory = \"/Users/pitchayaw/Desktop/TeachingKKU/BasicOfDS/CaseStudy2/\"\n",
        "reviewFilePath = \"yelp_academic_dataset_review.json\"\n",
        "businessFilePath = \"yelp_academic_dataset_business.json\"\n",
        "userFilePath = \"yelp_academic_dataset_user.json\""
      ]
    },
    {
      "cell_type": "markdown",
      "id": "8f6b3215",
      "metadata": {
        "id": "8f6b3215"
      },
      "source": [
        "อ่านข้อมูล review"
      ]
    },
    {
      "cell_type": "code",
      "execution_count": null,
      "id": "1c05f8e8",
      "metadata": {
        "id": "1c05f8e8"
      },
      "outputs": [],
      "source": [
        "# We only use the first 100,000 reviews\n",
        "n = 100000\n",
        "reviews = []\n",
        "with open(myDirectory+reviewFilePath) as fl:\n",
        "    for i, line in enumerate(fl):\n",
        "        reviews.append(json.loads(line))\n",
        "        if i+1 >= n:\n",
        "            break\n",
        "reviews = pd.DataFrame(reviews)\n",
        "reviews.head()"
      ]
    },
    {
      "cell_type": "code",
      "execution_count": null,
      "id": "3507890b",
      "metadata": {
        "id": "3507890b",
        "scrolled": true
      },
      "outputs": [],
      "source": [
        "reviews.info()"
      ]
    },
    {
      "cell_type": "markdown",
      "id": "913c1754",
      "metadata": {
        "id": "913c1754"
      },
      "source": [
        "อ่านข้อมูล business"
      ]
    },
    {
      "cell_type": "code",
      "execution_count": null,
      "id": "3106cea8",
      "metadata": {
        "id": "3106cea8",
        "scrolled": true
      },
      "outputs": [],
      "source": [
        "businesses = []\n",
        "with open(myDirectory+businessFilePath) as fl:\n",
        "    for i, line in enumerate(fl):\n",
        "        businesses.append(json.loads(line))\n",
        "businesses = pd.DataFrame(businesses)\n",
        "businesses.head()"
      ]
    },
    {
      "cell_type": "code",
      "execution_count": null,
      "id": "f1248ace",
      "metadata": {
        "id": "f1248ace"
      },
      "outputs": [],
      "source": [
        "businesses.info()"
      ]
    },
    {
      "cell_type": "markdown",
      "id": "c0d16eb5",
      "metadata": {
        "id": "c0d16eb5"
      },
      "source": [
        "อ่านข้อมูล user"
      ]
    },
    {
      "cell_type": "code",
      "execution_count": null,
      "id": "746a5322",
      "metadata": {
        "id": "746a5322",
        "scrolled": true
      },
      "outputs": [],
      "source": [
        "users = []\n",
        "with open(myDirectory+userFilePath) as fl:\n",
        "    for i, line in enumerate(fl):\n",
        "        users.append(json.loads(line))\n",
        "users = pd.DataFrame(users)\n",
        "users.head()"
      ]
    },
    {
      "cell_type": "code",
      "execution_count": null,
      "id": "e4d952ca",
      "metadata": {
        "id": "e4d952ca",
        "scrolled": true
      },
      "outputs": [],
      "source": [
        "users.info()"
      ]
    },
    {
      "cell_type": "markdown",
      "id": "01df357a",
      "metadata": {
        "id": "01df357a"
      },
      "source": [
        "### รวมข้อมูล Reviews, Businesses, และ Users และสำรวจตัวแปรในข้อมูล"
      ]
    },
    {
      "cell_type": "code",
      "execution_count": null,
      "id": "d44fd9b7",
      "metadata": {
        "id": "d44fd9b7",
        "scrolled": true
      },
      "outputs": [],
      "source": [
        "# join reviews and businesses data using inner join\n",
        "df = pd.merge(reviews, businesses, on='business_id', suffixes=('_review', '_business'))\n",
        "# join reviews-businesses and users data using inner join\n",
        "df = pd.merge(df, users, on='user_id', suffixes=('_review_business', '_user'))\n",
        "df"
      ]
    },
    {
      "cell_type": "markdown",
      "id": "717332fa",
      "metadata": {
        "id": "717332fa"
      },
      "source": [
        "### ทำการสำรวจข้อมูลเบื้องต้น"
      ]
    },
    {
      "cell_type": "code",
      "execution_count": null,
      "id": "71c8662d",
      "metadata": {
        "id": "71c8662d"
      },
      "outputs": [],
      "source": [
        "df.info()"
      ]
    },
    {
      "cell_type": "markdown",
      "id": "5ca1e701",
      "metadata": {
        "id": "5ca1e701"
      },
      "source": [
        "สำรวจการแจกแจงของจำนวนรีวิวที่แต่ละ user ให้"
      ]
    },
    {
      "cell_type": "code",
      "execution_count": null,
      "id": "a33dfbf3",
      "metadata": {
        "id": "a33dfbf3"
      },
      "outputs": [],
      "source": [
        "# ----------------- Your code here -----------------\n"
      ]
    },
    {
      "cell_type": "markdown",
      "id": "7b58d281",
      "metadata": {
        "id": "7b58d281"
      },
      "source": [
        "สำรวจการแจกแจงของจำนวนรีวิวและจำนวนดาวที่แต่ละ business ได้รับ"
      ]
    },
    {
      "cell_type": "code",
      "execution_count": null,
      "id": "74cf9a52",
      "metadata": {
        "id": "74cf9a52"
      },
      "outputs": [],
      "source": [
        "# ----------------- Your code here -----------------\n"
      ]
    },
    {
      "cell_type": "markdown",
      "id": "54a0fdb4",
      "metadata": {
        "id": "54a0fdb4"
      },
      "source": [
        "มีธุรกิจกี่แบบ และธุรกิจในแต่ละแบบมีจำนวนเท่าไหร่"
      ]
    },
    {
      "cell_type": "markdown",
      "id": "fa014e8c",
      "metadata": {
        "id": "fa014e8c"
      },
      "source": [
        "* ลองแยก `categories` ออกเป็น category ย่อย แล้วสามารถนับหรือใช้ฟังก์ชัน Counter `from collections import Counter` ในการนับจำนวนหรือความถี่ของธุรกิจแต่ละแบบ \\\n",
        "ตัวอย่าง https://www.geeksforgeeks.org/counters-in-python-set-1/"
      ]
    },
    {
      "cell_type": "code",
      "execution_count": null,
      "id": "210231ed",
      "metadata": {
        "id": "210231ed"
      },
      "outputs": [],
      "source": [
        "# ----------------- Your code here -----------------\n"
      ]
    },
    {
      "cell_type": "markdown",
      "id": "8868bc29",
      "metadata": {
        "id": "8868bc29"
      },
      "source": [
        "### ให้ตั้งปัญหาหรือคำถาม และวิเคราะห์ข้อมูลเพื่อตอบคำถามดังกล่าว"
      ]
    },
    {
      "cell_type": "markdown",
      "id": "f1553505",
      "metadata": {
        "id": "f1553505"
      },
      "source": [
        "<ระบุจุดประสงค์ของการศึกษา>"
      ]
    },
    {
      "cell_type": "code",
      "execution_count": null,
      "id": "aba95b6b",
      "metadata": {
        "id": "aba95b6b"
      },
      "outputs": [],
      "source": [
        "# ----------------- Your code here -----------------\n"
      ]
    },
    {
      "cell_type": "code",
      "execution_count": null,
      "id": "5505f3ec",
      "metadata": {
        "id": "5505f3ec"
      },
      "outputs": [],
      "source": [
        "#----------------------------------------------\n",
        "# Your code starts here\n",
        "# create some data visualization for the analysis and your presentation\n",
        "\n",
        "\n",
        "\n",
        "\n"
      ]
    },
    {
      "cell_type": "markdown",
      "id": "8972909c",
      "metadata": {
        "id": "8972909c"
      },
      "source": [
        "## Problem 3: Retrieving Data from Internet"
      ]
    },
    {
      "cell_type": "markdown",
      "id": "5996d1d9",
      "metadata": {
        "id": "5996d1d9"
      },
      "source": [
        "ให้แต่ละกลุ่มคิดหัวข้อที่สนใจ และทำการดึงข้อมูลเกี่ยวกับหัวข้อที่สนใจผ่าน url ด้วยฟังก์ชัน `urllib.request.urlopen` จากแหล่งข้อมูลออนไลน์อย่างน้อย 10 แห่ง รวบรวมข้อมูลให้เป็นหนึ่งเดียว"
      ]
    },
    {
      "cell_type": "code",
      "execution_count": null,
      "id": "27fcc0c4",
      "metadata": {
        "id": "27fcc0c4"
      },
      "outputs": [],
      "source": [
        "#----------------------------------------------\n",
        "# Your code starts here\n"
      ]
    },
    {
      "cell_type": "markdown",
      "id": "19abc7d7",
      "metadata": {
        "id": "19abc7d7"
      },
      "source": [
        "เตรียมข้อมูลและทำความสะอาดข้อมูลด้วยการทำ lower case, tokenization, removing stopwords (as well as punctuations, unrelated symbols, etc.), stemming, lemmatization เป็นต้น"
      ]
    },
    {
      "cell_type": "code",
      "execution_count": null,
      "id": "ef193f51",
      "metadata": {
        "id": "ef193f51"
      },
      "outputs": [],
      "source": [
        "#----------------------------------------------\n",
        "# Your code starts here\n"
      ]
    },
    {
      "cell_type": "markdown",
      "id": "520565df",
      "metadata": {
        "id": "520565df"
      },
      "source": [
        "Text Mining: ทำการวิเคราะห์ข้อความที่รวบรวมมาได้ พร้อมทั้งแสดงการนำเสนอที่สร้างสรรค์"
      ]
    },
    {
      "cell_type": "code",
      "execution_count": null,
      "id": "cf6fe6a8",
      "metadata": {
        "id": "cf6fe6a8"
      },
      "outputs": [],
      "source": [
        "#----------------------------------------------\n",
        "# Your code starts here\n"
      ]
    },
    {
      "cell_type": "markdown",
      "id": "35649ff8",
      "metadata": {
        "id": "35649ff8"
      },
      "source": [
        "-----------------\n",
        "# เสร็จแล้ววววว 🥳\n",
        "\n",
        "สิ่งที่ต้องแนบส่ง:\n",
        "* Notebook File (ตัวอย่าง \"filename.ipynb\") หรือ Link to Google Colab ซึ่งมีผลลัพธ์จากการรันโค้ดแสดงทั้งหมด\n",
        "* Slides สำหรับการนำเสนอ **10** นาที ซึ่งประกอบไปด้วย\n",
        "    * ตอบคำถามต่าง ๆ ใน Notebook\n",
        "    * อธิบายวิธีการที่ใช้ และแสดง screenshots ของผลลัพธ์ที่ได้จาก Python Notebook โดยแสดงภาพและตาราง โดยไม่จำเป็นที่จะต้องนำเสนอ source code\n",
        "\n",
        "** Note: แต่ละกลุ่มส่งแค่ครั้งเดียว **"
      ]
    }
  ],
  "metadata": {
    "colab": {
      "provenance": []
    },
    "kernelspec": {
      "display_name": "Python 3 (ipykernel)",
      "language": "python",
      "name": "python3"
    },
    "language_info": {
      "codemirror_mode": {
        "name": "ipython",
        "version": 3
      },
      "file_extension": ".py",
      "mimetype": "text/x-python",
      "name": "python",
      "nbconvert_exporter": "python",
      "pygments_lexer": "ipython3",
      "version": "3.13.1"
    }
  },
  "nbformat": 4,
  "nbformat_minor": 5
}