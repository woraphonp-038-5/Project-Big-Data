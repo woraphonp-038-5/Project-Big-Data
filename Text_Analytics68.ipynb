{
  "cells": [
    {
      "cell_type": "markdown",
      "metadata": {
        "id": "view-in-github",
        "colab_type": "text"
      },
      "source": [
        "<a href=\"https://colab.research.google.com/github/woraphonp-038-5/Project-Big-Data/blob/main/Text_Analytics68.ipynb\" target=\"_parent\"><img src=\"https://colab.research.google.com/assets/colab-badge.svg\" alt=\"Open In Colab\"/></a>"
      ]
    },
    {
      "cell_type": "markdown",
      "id": "2e4a7b28",
      "metadata": {
        "id": "2e4a7b28"
      },
      "source": [
        "# Mini Project 1: Text Analytics"
      ]
    },
    {
      "cell_type": "markdown",
      "id": "8856eee3",
      "metadata": {
        "id": "8856eee3"
      },
      "source": [
        "<img src=\"https://www.datanami.com/wp-content/uploads/2014/06/text-analytics.png\" width=\"500\" />"
      ]
    },
    {
      "cell_type": "markdown",
      "id": "1d9f7e55",
      "metadata": {
        "id": "1d9f7e55"
      },
      "source": [
        "ชื่อกลุ่ม: เฟิร์สมินอย"
      ]
    },
    {
      "cell_type": "markdown",
      "id": "6525cabe",
      "metadata": {
        "id": "6525cabe"
      },
      "source": [
        "รายชื่อสมาชิก การแบ่งงาน และสัดส่วนในการทำงาน:\n",
        "1. นายวรพล พลตรี 663020038-5\n",
        "2. นายวิศรุค แสนบึง 663020296-3\n",
        "3. นางสาวพัชรี ดียา\n",
        "4. นางสาวศิริวรรณ นวลวัน 663020585-6\n",
        "5. นายเสฎฐวุฒิ นาคสังข์ 663020586-4"
      ]
    },
    {
      "cell_type": "markdown",
      "id": "475c076b",
      "metadata": {
        "id": "475c076b"
      },
      "source": [
        "กำหนดส่ง: อาทิตย์ 5 ตุลาคม 2568 \\\n",
        "รายงานในชั้นเรียน: จันทร์ 6 ตุลาคม 2568"
      ]
    },
    {
      "cell_type": "markdown",
      "id": "6d7668b9",
      "metadata": {
        "id": "6d7668b9"
      },
      "source": [
        "**ผลที่คาดหวังจากการทำงานนี้**\n",
        "* สามารถใช้ Python ในการอ่านข้อมูล\n",
        "* จัดการกับข้อมูลเบื้องต้นในรูปแบบข้อความก่อนนำไปวิเคราะห์\n",
        "* สามารถวิเคราะห์ข้อมูลตัวอักษรเบื้องต้นและสร้าง Data Visualization ที่เหมาะสมได้\n",
        "----------------------"
      ]
    },
    {
      "cell_type": "raw",
      "id": "0365f89e",
      "metadata": {
        "id": "0365f89e"
      },
      "source": [
        "\"\"\"\n",
        "# reading data sets from Google Drive\n",
        "from google.colab import drive\n",
        "drive.mount('/content/drive')\n",
        "\"\"\""
      ]
    },
    {
      "cell_type": "code",
      "execution_count": 1,
      "id": "76bc1ee7",
      "metadata": {
        "id": "76bc1ee7",
        "colab": {
          "base_uri": "https://localhost:8080/"
        },
        "outputId": "bf14632c-9aae-400b-a058-a6d2bb5ec529",
        "collapsed": true
      },
      "outputs": [
        {
          "output_type": "stream",
          "name": "stdout",
          "text": [
            "Requirement already satisfied: nltk in /usr/local/lib/python3.12/dist-packages (3.9.1)\n",
            "Requirement already satisfied: click in /usr/local/lib/python3.12/dist-packages (from nltk) (8.2.1)\n",
            "Requirement already satisfied: joblib in /usr/local/lib/python3.12/dist-packages (from nltk) (1.5.2)\n",
            "Requirement already satisfied: regex>=2021.8.3 in /usr/local/lib/python3.12/dist-packages (from nltk) (2024.11.6)\n",
            "Requirement already satisfied: tqdm in /usr/local/lib/python3.12/dist-packages (from nltk) (4.67.1)\n",
            "Requirement already satisfied: wordcloud in /usr/local/lib/python3.12/dist-packages (1.9.4)\n",
            "Requirement already satisfied: numpy>=1.6.1 in /usr/local/lib/python3.12/dist-packages (from wordcloud) (2.0.2)\n",
            "Requirement already satisfied: pillow in /usr/local/lib/python3.12/dist-packages (from wordcloud) (11.3.0)\n",
            "Requirement already satisfied: matplotlib in /usr/local/lib/python3.12/dist-packages (from wordcloud) (3.10.0)\n",
            "Requirement already satisfied: contourpy>=1.0.1 in /usr/local/lib/python3.12/dist-packages (from matplotlib->wordcloud) (1.3.3)\n",
            "Requirement already satisfied: cycler>=0.10 in /usr/local/lib/python3.12/dist-packages (from matplotlib->wordcloud) (0.12.1)\n",
            "Requirement already satisfied: fonttools>=4.22.0 in /usr/local/lib/python3.12/dist-packages (from matplotlib->wordcloud) (4.60.0)\n",
            "Requirement already satisfied: kiwisolver>=1.3.1 in /usr/local/lib/python3.12/dist-packages (from matplotlib->wordcloud) (1.4.9)\n",
            "Requirement already satisfied: packaging>=20.0 in /usr/local/lib/python3.12/dist-packages (from matplotlib->wordcloud) (25.0)\n",
            "Requirement already satisfied: pyparsing>=2.3.1 in /usr/local/lib/python3.12/dist-packages (from matplotlib->wordcloud) (3.2.4)\n",
            "Requirement already satisfied: python-dateutil>=2.7 in /usr/local/lib/python3.12/dist-packages (from matplotlib->wordcloud) (2.9.0.post0)\n",
            "Requirement already satisfied: six>=1.5 in /usr/local/lib/python3.12/dist-packages (from python-dateutil>=2.7->matplotlib->wordcloud) (1.17.0)\n",
            "Requirement already satisfied: Pillow in /usr/local/lib/python3.12/dist-packages (11.3.0)\n"
          ]
        }
      ],
      "source": [
        "# หากไม่สามารถลง library ใด ให้ดาวน์โหลดดังตัวอย่างต่อไปนี้\n",
        "!pip install nltk\n",
        "!pip install wordcloud\n",
        "!pip install Pillow\n",
        "# Load these libraries\n",
        "import json\n",
        "import pprint\n",
        "import pandas as pd\n",
        "import numpy as np\n",
        "from io import StringIO # using StringIO to prevent ValueError\n",
        "from os import path\n",
        "from PIL import Image\n",
        "from wordcloud import WordCloud, STOPWORDS, ImageColorGenerator\n",
        "import nltk\n",
        "import urllib.request\n",
        "\n",
        "import matplotlib.pyplot as plt\n",
        "%matplotlib inline"
      ]
    },
    {
      "cell_type": "markdown",
      "id": "3dc6dd2d",
      "metadata": {
        "id": "3dc6dd2d"
      },
      "source": [
        "## Problem 1: Working with Twitter Data and JSON file\n",
        "*หมายเหตุ: ไม่ต้องนำเสนอข้อนี้*\n",
        "\n",
        "จากข้อมูลทวิตเตอร์เกี่ยวกับประเทศไทยที่เก็บในวันที่ 31 สิงหาคม 2565 ในรูปแบบ JSON จาก `thailand_tweets.txt` ซึ่งมีการดึงข้อมูลมาด้วยคีเวิร์ด \"Thailand\" ให้ทำการศึกษาข้อมูลและดึงค่าจากข้อมูล \\\n",
        "ทั้งนี้เราสามารถเรียกหน้าทวีตจาก tweet ID ได้ดังนี้\n",
        "```\n",
        "twitter.com/anyuser/status/<tweet_id>\n",
        "```\n"
      ]
    },
    {
      "cell_type": "markdown",
      "id": "dc264559",
      "metadata": {
        "id": "dc264559"
      },
      "source": [
        "#### Read JSON file"
      ]
    },
    {
      "cell_type": "code",
      "source": [
        "from google.colab import drive\n",
        "drive.mount('/content/drive')"
      ],
      "metadata": {
        "colab": {
          "base_uri": "https://localhost:8080/"
        },
        "id": "R59EbYhxvKrA",
        "outputId": "c0139ad3-5bf7-403a-a192-3b0e00c66040"
      },
      "id": "R59EbYhxvKrA",
      "execution_count": 3,
      "outputs": [
        {
          "output_type": "stream",
          "name": "stdout",
          "text": [
            "Mounted at /content/drive\n"
          ]
        }
      ]
    },
    {
      "cell_type": "code",
      "source": [
        "# เปลี่ยน path ตรงนี้\n",
        "file_path = data = '/content/drive/MyDrive/ProjectBigData/thailand_tweets.txt'"
      ],
      "metadata": {
        "id": "Sd41_OQ7vmCS"
      },
      "id": "Sd41_OQ7vmCS",
      "execution_count": 4,
      "outputs": []
    },
    {
      "cell_type": "code",
      "source": [
        "# Read the JSON file line by line\n",
        "tweets = []\n",
        "with open(file_path, 'r') as f:\n",
        "    for line in f:\n",
        "        tweets.append(json.loads(line))"
      ],
      "metadata": {
        "id": "jEO6ocwG1iEW"
      },
      "id": "jEO6ocwG1iEW",
      "execution_count": 20,
      "outputs": []
    },
    {
      "cell_type": "markdown",
      "id": "89203da4",
      "metadata": {
        "id": "89203da4"
      },
      "source": [
        "#### Inspect data in JSON format (either reading using pretty print or Pandas data frame)"
      ]
    },
    {
      "cell_type": "code",
      "source": [
        "# Inspect using pretty print\n",
        "pprint.pprint(tweets[:2])\n",
        "\n",
        "# Load into a Pandas DataFrame\n",
        "tweets_df = pd.DataFrame(tweets)\n",
        "tweets_df.head()"
      ],
      "metadata": {
        "id": "GQPJsm558lLH",
        "colab": {
          "base_uri": "https://localhost:8080/",
          "height": 1000
        },
        "collapsed": true,
        "outputId": "1789b20d-e9fa-46ae-d764-c17372b9e670"
      },
      "id": "GQPJsm558lLH",
      "execution_count": 21,
      "outputs": [
        {
          "output_type": "stream",
          "name": "stdout",
          "text": [
            "['{\"1564764893038882816\": {\"tweet_id\": \"1564764893038882816\", \"username\": '\n",
            " '\"matthunter\", \"name\": \"MATT HUNT\\\\u039eR\", \"profile_picture\": '\n",
            " '\"https://twitter.com/matthunter/photo\", \"replies\": 2, \"retweets\": 1, '\n",
            " '\"likes\": 7, \"is_retweet\": false, \"posted_time\": \"2022-08-30T23:59:57+00:00\", '\n",
            " '\"content\": \"Thanks for asking! Yes, we will support shipping to most '\n",
            " 'countries, including Japan and Thailand. \", \"hashtags\": [], \"mentions\": [], '\n",
            " '\"images\": [], \"videos\": [], \"tweet_url\": '\n",
            " '\"https://twitter.com/matthunter/status/1564764893038882816\", \"link\": \"\"}, '\n",
            " '\"1564764866598080513\": {\"tweet_id\": \"1564764866598080513\", \"username\": '\n",
            " '\"DavSmithVP\", \"name\": \"DavSmith / Virtual Photography\", \"profile_picture\": '\n",
            " '\"https://twitter.com/DavSmithVP/photo\", \"replies\": 0, \"retweets\": 0, '\n",
            " '\"likes\": 2, \"is_retweet\": false, \"posted_time\": \"2022-08-30T23:59:50+00:00\", '\n",
            " '\"content\": \"Tomb Raider Underworld | Thailand \\\\n#VirtualPhotography '\n",
            " '\\\\n@tombraider\\\\n @crystaldynamics\", \"hashtags\": [\"VirtualPhotography\"], '\n",
            " '\"mentions\": [\"tombraider\", \"crystaldynamics\"], \"images\": '\n",
            " '[\"https://pbs.twimg.com/media/FbcpF-FXkAIlqTS?format=jpg&name=small\"], '\n",
            " '\"videos\": [], \"tweet_url\": '\n",
            " '\"https://twitter.com/DavSmithVP/status/1564764866598080513\", \"link\": \"\"}, '\n",
            " '\"1564764845685280772\": {\"tweet_id\": \"1564764845685280772\", \"username\": '\n",
            " '\"DailyPattaya\", \"name\": \"The Pattaya Daily\", \"profile_picture\": '\n",
            " '\"https://twitter.com/DailyPattaya/photo\", \"replies\": 0, \"retweets\": 0, '\n",
            " '\"likes\": 0, \"is_retweet\": false, \"posted_time\": \"2022-08-30T23:59:45+00:00\", '\n",
            " '\"content\": \"The latest The Pattaya Daily! http://thepattayadaily.com Thanks '\n",
            " 'to \\\\n@PopeKael\\\\n @ASEANNOWTH\\\\n #thailand #pattaya\", \"hashtags\": '\n",
            " '[\"thailand\", \"pattaya\"], \"mentions\": [\"PopeKael\", \"ASEANNOWTH\"], \"images\": '\n",
            " '[], \"videos\": [], \"tweet_url\": '\n",
            " '\"https://twitter.com/DailyPattaya/status/1564764845685280772\", \"link\": \"\"}, '\n",
            " '\"1564764710804897792\": {\"tweet_id\": \"1564764710804897792\", \"username\": '\n",
            " '\"Bryan62766077\", \"name\": \"Bryan\", \"profile_picture\": '\n",
            " '\"https://twitter.com/Bryan62766077/photo\", \"replies\": 1, \"retweets\": 0, '\n",
            " '\"likes\": 1, \"is_retweet\": false, \"posted_time\": \"2022-08-30T23:59:13+00:00\", '\n",
            " '\"content\": \"You can live some places for next to nothing, believe it or not. '\n",
            " 'I pay $300 a month for a really nice apartment in Thailand. All utilities '\n",
            " 'included. No deposit. Close to the beach. Live music clubs everywhere. Meals '\n",
            " 'are about $2\", \"hashtags\": [], \"mentions\": [], \"images\": [], \"videos\": [], '\n",
            " '\"tweet_url\": \"https://twitter.com/Bryan62766077/status/1564764710804897792\", '\n",
            " '\"link\": \"\"}, \"1564764468277612549\": {\"tweet_id\": \"1564764468277612549\", '\n",
            " '\"username\": \"Megan_and_Grrr\", \"name\": \"Megan\", \"profile_picture\": '\n",
            " '\"https://twitter.com/Megan_and_Grrr/photo\", \"replies\": 0, \"retweets\": 0, '\n",
            " '\"likes\": 0, \"is_retweet\": false, \"posted_time\": \"2022-08-30T23:58:15+00:00\", '\n",
            " '\"content\": \"ALIEN HOUSE is a story of love, hope and alien intervention set '\n",
            " \"in Wales, Thailand and Inner Space. It's a #fantasy story about \"\n",
            " '#extraterrestrial contact and the conflict between a man and his inner voice '\n",
            " \"or alter ego. William is not sure if he's going mad \"\n",
            " 'https://smarturl.it/alien-house-eng?IQid=jbmegan\\\\u2026\", \"hashtags\": '\n",
            " '[\"fantasy\", \"extraterrestrial\"], \"mentions\": [], \"images\": '\n",
            " '[\"https://pbs.twimg.com/media/Fbco_bSXEAMcDOZ?format=jpg&name=small\"], '\n",
            " '\"videos\": [], \"tweet_url\": '\n",
            " '\"https://twitter.com/Megan_and_Grrr/status/1564764468277612549\", \"link\": '\n",
            " '\"\"}, \"1564764445825458181\": {\"tweet_id\": \"1564764445825458181\", \"username\": '\n",
            " '\"OhmPawatInter\", \"name\": \"OhmPawat International\", \"profile_picture\": '\n",
            " '\"https://twitter.com/OhmPawatInter/photo\", \"replies\": 0, \"retweets\": 99, '\n",
            " '\"likes\": 143, \"is_retweet\": false, \"posted_time\": '\n",
            " '\"2022-08-30T23:58:10+00:00\", \"content\": \"Trend twitter update \\\\n\\\\nTop '\n",
            " 'Twitter influencers in Thailand today \\\\n#4 \\\\n@ohmpawatt\\\\nInfluence Score: '\n",
            " '19442\\\\n7 top tweets\\\\n25182 '\n",
            " 'retweets\\\\n\\\\nhttps://etrenders.com/trendsetters/Thailand\\\\u2026\\\\n#ohmpawat '\n",
            " '#\\\\u0e22\\\\u0e34\\\\u0e49\\\\u0e215\\\\u0e1e\\\\u0e31\\\\u0e19\\\\u0e02\\\\u0e2d\\\\u0e07\\\\u0e42\\\\u0e2d\\\\u0e21\\\\u0e20\\\\u0e27\\\\u0e31\\\\u0e15\", '\n",
            " '\"hashtags\": [\"4\", \"ohmpawat\", \"\\\\u0e22\"], \"mentions\": [\"ohmpawatt\"], '\n",
            " '\"images\": '\n",
            " '[\"https://pbs.twimg.com/media/Fbco99jWIAEd3Oe?format=jpg&name=small\", '\n",
            " '\"https://pbs.twimg.com/media/Fbco-JwWYAE7oLy?format=jpg&name=small\"], '\n",
            " '\"videos\": [], \"tweet_url\": '\n",
            " '\"https://twitter.com/OhmPawatInter/status/1564764445825458181\", \"link\": \"\"}, '\n",
            " '\"1564764361742110720\": {\"tweet_id\": \"1564764361742110720\", \"username\": '\n",
            " '\"nato_tonyo11\", \"name\": \"nutri(BUSY SI ENGR.)| SoliD\", \"profile_picture\": '\n",
            " '\"https://twitter.com/nato_tonyo11/photo\", \"replies\": 0, \"retweets\": 2, '\n",
            " '\"likes\": 18, \"is_retweet\": false, \"posted_time\": '\n",
            " '\"2022-08-30T23:57:50+00:00\", \"content\": \"Good morning  world! And '\n",
            " 'goodmorning to you too #DonnyPangilinan, enjoy Thailand babe and please do '\n",
            " 'take selfies out there!, pagod nakong makikitang sapatos pa din nasa igs '\n",
            " 'mo!!\", \"hashtags\": [\"DonnyPangilinan\"], \"mentions\": [], \"images\": [], '\n",
            " '\"videos\": [], \"tweet_url\": '\n",
            " '\"https://twitter.com/nato_tonyo11/status/1564764361742110720\", \"link\": \"\"}, '\n",
            " '\"1564764274098323456\": {\"tweet_id\": \"1564764274098323456\", \"username\": '\n",
            " '\"ThThitikarn61\", \"name\": \"thiti\", \"profile_picture\": '\n",
            " '\"https://twitter.com/ThThitikarn61/photo\", \"replies\": 0, \"retweets\": 0, '\n",
            " '\"likes\": 0, \"is_retweet\": false, \"posted_time\": \"2022-08-30T23:57:29+00:00\", '\n",
            " '\"content\": \"Listening to #faraway the title track of #theotherside album by '\n",
            " '#MarkTuan \\\\n@marktuan\\\\n while traveling to Thailand\", \"hashtags\": '\n",
            " '[\"faraway\", \"theotherside\", \"MarkTuan\"], \"mentions\": [\"marktuan\"], \"images\": '\n",
            " '[], \"videos\": [], \"tweet_url\": '\n",
            " '\"https://twitter.com/ThThitikarn61/status/1564764274098323456\", \"link\": \"\"}, '\n",
            " '\"1564764028014313472\": {\"tweet_id\": \"1564764028014313472\", \"username\": '\n",
            " '\"Livetradingnews\", \"name\": \"Knightly News\", \"profile_picture\": '\n",
            " '\"https://twitter.com/Livetradingnews/photo\", \"replies\": 0, \"retweets\": 2, '\n",
            " '\"likes\": 3, \"is_retweet\": false, \"posted_time\": \"2022-08-30T23:56:30+00:00\", '\n",
            " '\"content\": \"With the recent news of the SCB X-Bitkub deal falling apart and '\n",
            " \"the Zipmex incident, investors in Thailand's digital currency market are \"\n",
            " 'facing a negative outlook\", \"hashtags\": [], \"mentions\": [], \"images\": [], '\n",
            " '\"videos\": [], \"tweet_url\": '\n",
            " '\"https://twitter.com/Livetradingnews/status/1564764028014313472\", \"link\": '\n",
            " '\"\"}, \"1564763907700531202\": {\"tweet_id\": \"1564763907700531202\", \"username\": '\n",
            " '\"DiscoverSoc\", \"name\": \"Discover Society\", \"profile_picture\": '\n",
            " '\"https://twitter.com/DiscoverSoc/photo\", \"replies\": 0, \"retweets\": 1, '\n",
            " '\"likes\": 0, \"is_retweet\": false, \"posted_time\": \"2022-08-30T23:56:02+00:00\", '\n",
            " '\"content\": \"#ICYMI  On the Frontline. Crude Power in Thailand\\\\u2019s 2014 '\n",
            " 'Coup: Old Soldiers Almost Die\", \"hashtags\": [\"ICYMI\"], \"mentions\": [], '\n",
            " '\"images\": [], \"videos\": [], \"tweet_url\": '\n",
            " '\"https://twitter.com/DiscoverSoc/status/1564763907700531202\", \"link\": '\n",
            " '\"https://t.co/OYQzv4BSm9\"}, \"1564763775403712513\": {\"tweet_id\": '\n",
            " '\"1564763775403712513\", \"username\": \"Onside10900651\", \"name\": \"Onside\", '\n",
            " '\"profile_picture\": \"https://twitter.com/Onside10900651/photo\", \"replies\": 0, '\n",
            " '\"retweets\": 0, \"likes\": 0, \"is_retweet\": false, \"posted_time\": '\n",
            " '\"2022-08-30T23:55:30+00:00\", \"content\": \"And I thought Thailand was '\n",
            " 'absolutely democratic?\", \"hashtags\": [], \"mentions\": [], \"images\": [], '\n",
            " '\"videos\": [], \"tweet_url\": '\n",
            " '\"https://twitter.com/Onside10900651/status/1564763775403712513\", \"link\": '\n",
            " '\"\"}, \"1564763746463105026\": {\"tweet_id\": \"1564763746463105026\", \"username\": '\n",
            " '\"lekwilliams\", \"name\": \"Lek\", \"profile_picture\": '\n",
            " '\"https://twitter.com/lekwilliams/photo\", \"replies\": 0, \"retweets\": 0, '\n",
            " '\"likes\": 0, \"is_retweet\": false, \"posted_time\": \"2022-08-30T23:55:23+00:00\", '\n",
            " '\"content\": \"How far would you go to save the family farm and keep your '\n",
            " \"siblings in school? Read what Lek did in 'Behind The Smile, the story of \"\n",
            " \"Lek, a bar girl in Pattaya' by Owen Jones! \"\n",
            " 'https://smarturl.it/BTS-boxset?IQid=SJB-lw-thailand\\\\u2026 #pattaya '\n",
            " '#Thailand Please retweet\", \"hashtags\": [\"pattaya\", \"Thailand\"], \"mentions\": '\n",
            " '[], \"images\": '\n",
            " '[\"https://pbs.twimg.com/media/FbcoVHpWIAEh_R0?format=jpg&name=small\"], '\n",
            " '\"videos\": [], \"tweet_url\": '\n",
            " '\"https://twitter.com/lekwilliams/status/1564763746463105026\", \"link\": \"\"}, '\n",
            " '\"1564763729967054848\": {\"tweet_id\": \"1564763729967054848\", \"username\": '\n",
            " '\"o_rung_o1\", \"name\": \"o_Rung_o\", \"profile_picture\": '\n",
            " '\"https://twitter.com/o_rung_o1/photo\", \"replies\": 0, \"retweets\": 28, '\n",
            " '\"likes\": 15, \"is_retweet\": false, \"posted_time\": '\n",
            " '\"2022-08-30T23:55:19+00:00\", \"content\": '\n",
            " '\"\\\\u0e27\\\\u0e31\\\\u0e19\\\\u0e19\\\\u0e35\\\\u0e49\\\\u0e27\\\\u0e31\\\\u0e19\\\\u0e2a\\\\u0e38\\\\u0e14\\\\u0e17\\\\u0e49\\\\u0e32\\\\u0e22\\\\u0e02\\\\u0e2d\\\\u0e07\\\\u0e01\\\\u0e32\\\\u0e23\\\\u0e42\\\\u0e2b\\\\u0e27\\\\u0e15 '\n",
            " '\\\\u0e23\\\\u0e32\\\\u0e07\\\\u0e27\\\\u0e31\\\\u0e25 Outstanding Asian Star Thailand '\n",
            " '#SDA2022 '\n",
            " '\\\\u0e43\\\\u0e2b\\\\u0e49\\\\u0e19\\\\u0e49\\\\u0e2d\\\\u0e07\\\\u0e1e\\\\u0e35\\\\u0e1e\\\\u0e35\\\\u0e41\\\\u0e25\\\\u0e49\\\\u0e27\\\\u0e19\\\\u0e30\\\\u0e04\\\\u0e30 '\n",
            " '\\\\n\\\\u0e21\\\\u0e32\\\\u0e1e\\\\u0e32\\\\u0e19\\\\u0e49\\\\u0e2d\\\\u0e07\\\\u0e44\\\\u0e1b\\\\u0e23\\\\u0e31\\\\u0e1a\\\\u0e16\\\\u0e49\\\\u0e27\\\\u0e22\\\\u0e23\\\\u0e32\\\\u0e07\\\\u0e27\\\\u0e31\\\\u0e252\\\\u0e1b\\\\u0e35\\\\u0e0b\\\\u0e49\\\\u0e2d\\\\u0e19\\\\u0e01\\\\u0e31\\\\u0e19\\\\u0e04\\\\u0e48\\\\u0e30\\\\n#voteforppkritt '\n",
            " '\\\\n#ppkritt\", \"hashtags\": [\"SDA2022\", \"voteforppkritt\", \"ppkritt\"], '\n",
            " '\"mentions\": [], \"images\": '\n",
            " '[\"https://pbs.twimg.com/media/FbcoUQAaQAAIFME?format=jpg&name=small\"], '\n",
            " '\"videos\": [], \"tweet_url\": '\n",
            " '\"https://twitter.com/o_rung_o1/status/1564763729967054848\", \"link\": \"\"}, '\n",
            " '\"1564763679232405504\": {\"tweet_id\": \"1564763679232405504\", \"username\": '\n",
            " '\"sixhav\", \"name\": \"shi bangs\", \"profile_picture\": '\n",
            " '\"https://twitter.com/sixhav/photo\", \"replies\": 1, \"retweets\": 0, \"likes\": 1, '\n",
            " '\"is_retweet\": false, \"posted_time\": \"2022-08-30T23:55:07+00:00\", \"content\": '\n",
            " '\"right? 2 years ago he is just a simple born and raised guy from thailand '\n",
            " 'who can barely speak thai and likes to do diys and make everything about '\n",
            " 'math i just love how authentic he is hahaha have you seen his 1000 push ups '\n",
            " 'one? \", \"hashtags\": [], \"mentions\": [], \"images\": [], \"videos\": [], '\n",
            " '\"tweet_url\": \"https://twitter.com/sixhav/status/1564763679232405504\", '\n",
            " '\"link\": \"\"}, \"1564763673662464003\": {\"tweet_id\": \"1564763673662464003\", '\n",
            " '\"username\": \"JaeJazee\", \"name\": '\n",
            " '\"\\\\u24b7\\\\u24c9\\\\u24c8ARMY\\\\ud560\\\\uba38\\\\ub2c8\\\\u1d36\\\\u1d39\\\\u1d36\\\\u1d37\\\\u00b3\\\\u1d36\", '\n",
            " '\"profile_picture\": \"https://twitter.com/JaeJazee/photo\", \"replies\": 0, '\n",
            " '\"retweets\": 0, \"likes\": 0, \"is_retweet\": false, \"posted_time\": '\n",
            " '\"2022-08-30T23:55:06+00:00\", \"content\": \"I knew I heard the beginning speech '\n",
            " 'that Lisa had an Australian accent.  It is not that she is from Australia '\n",
            " 'but Thailand... here is the explanation...\", \"hashtags\": [], \"mentions\": [], '\n",
            " '\"images\": '\n",
            " '[\"https://pbs.twimg.com/media/FbcoKGTWAAAA0-D?format=png&name=900x900\"], '\n",
            " '\"videos\": [], \"tweet_url\": '\n",
            " '\"https://twitter.com/JaeJazee/status/1564763673662464003\", \"link\": \"\"}, '\n",
            " '\"1564763553130655744\": {\"tweet_id\": \"1564763553130655744\", \"username\": '\n",
            " '\"chak4793\", \"name\": \"\\\\u00a2\\\\u043d\\\\u03b1\\\\u043a.\\\\u0454\\\\u0442\\\\u043d\", '\n",
            " '\"profile_picture\": \"https://twitter.com/chak4793/photo\", \"replies\": 1, '\n",
            " '\"retweets\": 0, \"likes\": 7, \"is_retweet\": false, \"posted_time\": '\n",
            " '\"2022-08-30T23:54:37+00:00\", \"content\": \"Can fluf merch send to Asian '\n",
            " 'countries like Japan or Thailand?\", \"hashtags\": [], \"mentions\": [], '\n",
            " '\"images\": [], \"videos\": [], \"tweet_url\": '\n",
            " '\"https://twitter.com/chak4793/status/1564763553130655744\", \"link\": \"\"}, '\n",
            " '\"1564763407818952705\": {\"tweet_id\": \"1564763407818952705\", \"username\": '\n",
            " '\"SarahJa56317435\", \"name\": \"j\", \"profile_picture\": '\n",
            " '\"https://twitter.com/SarahJa56317435/photo\", \"replies\": 0, \"retweets\": 0, '\n",
            " '\"likes\": 0, \"is_retweet\": false, \"posted_time\": \"2022-08-30T23:54:02+00:00\", '\n",
            " '\"content\": \"= and the French people and also Thailand\\'s people that have '\n",
            " \"not thrown lethal military barracks gas at an 'Enemy of Thought' are the \"\n",
            " 'races to not survive a space race Masterclass\", \"hashtags\": [], \"mentions\": '\n",
            " '[], \"images\": [], \"videos\": [], \"tweet_url\": '\n",
            " '\"https://twitter.com/SarahJa56317435/status/1564763407818952705\", \"link\": '\n",
            " '\"\"}, \"1564763389058027521\": {\"tweet_id\": \"1564763389058027521\", \"username\": '\n",
            " '\"starrykws\", \"name\": \"em \\\\u263e\", \"profile_picture\": '\n",
            " '\"https://twitter.com/starrykws/photo\", \"replies\": 0, \"retweets\": 0, \"likes\": '\n",
            " '0, \"is_retweet\": false, \"posted_time\": \"2022-08-30T23:53:58+00:00\", '\n",
            " '\"content\": \"woo.ddadda in thailand \", \"hashtags\": [], \"mentions\": [], '\n",
            " '\"images\": '\n",
            " '[\"https://pbs.twimg.com/media/FbcoAO_XkAA-Isn?format=jpg&name=360x360\", '\n",
            " '\"https://pbs.twimg.com/media/FbcoAPDXEAYc26T?format=jpg&name=360x360\"], '\n",
            " '\"videos\": [], \"tweet_url\": '\n",
            " '\"https://twitter.com/starrykws/status/1564763389058027521\", \"link\": \"\"}, '\n",
            " '\"1564763303989366784\": {\"tweet_id\": \"1564763303989366784\", \"username\": '\n",
            " '\"aisseutea\", \"name\": \"Cynthia Dewi\", \"profile_picture\": '\n",
            " '\"https://twitter.com/aisseutea/photo\", \"replies\": 1, \"retweets\": 0, \"likes\": '\n",
            " '0, \"is_retweet\": false, \"posted_time\": \"2022-08-30T23:53:38+00:00\", '\n",
            " '\"content\": \"Kalo di thailand bukan dong :)\", \"hashtags\": [], \"mentions\": [], '\n",
            " '\"images\": [], \"videos\": [], \"tweet_url\": '\n",
            " '\"https://twitter.com/aisseutea/status/1564763303989366784\", \"link\": \"\"}, '\n",
            " '\"1564763292354355200\": {\"tweet_id\": \"1564763292354355200\", \"username\": '\n",
            " '\"LDN327\", \"name\": \"LDN327\", \"profile_picture\": '\n",
            " '\"https://twitter.com/LDN327/photo\", \"replies\": 1, \"retweets\": 7, \"likes\": 5, '\n",
            " '\"is_retweet\": false, \"posted_time\": \"2022-08-30T23:53:35+00:00\", \"content\": '\n",
            " '\"- please engage\\\\n\\\\nELLE Thailand  \\\\n '\n",
            " 'https://instagram.com/p/Ch02SH7hGpq/ \\\\n  '\n",
            " 'https://instagram.com/p/Ch0xESZB1kr/ \\\\n\\\\n#LISA #LALISA #Money\", '\n",
            " '\"hashtags\": [\"LISA\", \"LALISA\", \"Money\"], \"mentions\": [], \"images\": [], '\n",
            " '\"videos\": [], \"tweet_url\": '\n",
            " '\"https://twitter.com/LDN327/status/1564763292354355200\", \"link\": '\n",
            " '\"https://t.co/6aZ539h9RK\"}, \"1564763185244426240\": {\"tweet_id\": '\n",
            " '\"1564763185244426240\", \"username\": \"Jay_beebee\", \"name\": \"Jay Bee\", '\n",
            " '\"profile_picture\": \"https://twitter.com/Jay_beebee/photo\", \"replies\": 1, '\n",
            " '\"retweets\": 7, \"likes\": 7, \"is_retweet\": true, \"posted_time\": '\n",
            " '\"2022-08-30T23:53:09+00:00\", \"content\": '\n",
            " '\"\\\\u0e1e\\\\u0e23\\\\u0e49\\\\u0e2d\\\\u0e21\\\\u0e04\\\\u0e23\\\\u0e31\\\\u0e0a\\\\n\\\\nPlease,come '\n",
            " 'to thailand.\\\\n \\\\n\\\\n#JAYB #\\\\uc81c\\\\uc774\\\\ube44 \\\\n@jaybnow_hr\\\\n#GOT7 '\n",
            " '#\\\\uac13\\\\uc138\\\\ube10 \\\\n@GOT7\\\\n#CDNZA \\\\n@cdnzarecords\\\\n#Def\", '\n",
            " '\"hashtags\": [\"JAYB\", \"\\\\uc81c\\\\uc774\\\\ube44\", \"GOT7\", '\n",
            " '\"\\\\uac13\\\\uc138\\\\ube10\", \"CDNZA\", \"Def\"], \"mentions\": [\"jaybnow_hr\", \"GOT7\", '\n",
            " '\"cdnzarecords\"], \"images\": '\n",
            " '[\"https://pbs.twimg.com/media/FbcmB6RUEAA75m6?format=jpg&name=small\"], '\n",
            " '\"videos\": [], \"tweet_url\": '\n",
            " '\"https://twitter.com/Jay_beebee/status/1564763185244426240\", \"link\": \"\"}, '\n",
            " '\"1564763141589897217\": {\"tweet_id\": \"1564763141589897217\", \"username\": '\n",
            " '\"Iovelydoll\", \"name\": \"\", \"profile_picture\": '\n",
            " '\"https://twitter.com/Iovelydoll/photo\", \"replies\": 0, \"retweets\": 0, '\n",
            " '\"likes\": 3, \"is_retweet\": true, \"posted_time\": \"2022-08-30T23:52:59+00:00\", '\n",
            " '\"content\": \"we need more ten vlogs in thailand...a girl can dream\", '\n",
            " '\"hashtags\": [], \"mentions\": [], \"images\": '\n",
            " '[\"https://pbs.twimg.com/media/EDNptiHUEAAqdwm?format=jpg&name=small\"], '\n",
            " '\"videos\": [], \"tweet_url\": '\n",
            " '\"https://twitter.com/Iovelydoll/status/1564763141589897217\", \"link\": \"\"}, '\n",
            " '\"1564763050477244417\": {\"tweet_id\": \"1564763050477244417\", \"username\": '\n",
            " '\"jaemmrchv\", \"name\": \"wonyoungiii | surprise cutie\", \"profile_picture\": '\n",
            " '\"https://twitter.com/jaemmrchv/photo\", \"replies\": 0, \"retweets\": 1, \"likes\": '\n",
            " '0, \"is_retweet\": false, \"posted_time\": \"2022-08-30T23:52:37+00:00\", '\n",
            " '\"content\": \"@NaEMwi\\\\n @jaemwinner\\\\n @JAEMIN_THAILAND\", \"hashtags\": [], '\n",
            " '\"mentions\": [\"NaEMwi\", \"jaemwinner\", \"JAEMIN_THAILAND\"], \"images\": [], '\n",
            " '\"videos\": [], \"tweet_url\": '\n",
            " '\"https://twitter.com/jaemmrchv/status/1564763050477244417\", \"link\": \"\"}, '\n",
            " '\"1564762341324992513\": {\"tweet_id\": \"1564762341324992513\", \"username\": '\n",
            " '\"Zeepruk_jfc\", \"name\": \"ZeePruk_JapanFC\\\\uff08Rest\\\\uff09\", '\n",
            " '\"profile_picture\": \"https://twitter.com/Zeepruk_jfc/photo\", \"replies\": 2, '\n",
            " '\"retweets\": 54, \"likes\": 32, \"is_retweet\": false, \"posted_time\": '\n",
            " '\"2022-08-30T23:49:48+00:00\", \"content\": \"Can you help me?\\\\n\\\\ntracking '\n",
            " 'number\\\\nFMP200001150XX\\\\n\\\\nDoes anyone know a shipping company in Thailand '\n",
            " \"that handles this number?\\\\nI'm in trouble with no reply even if I contact \"\n",
            " 'the caller \\\\n\\\\n#Zunshine\", \"hashtags\": [\"Zunshine\"], \"mentions\": [], '\n",
            " '\"images\": [], \"videos\": [], \"tweet_url\": '\n",
            " '\"https://twitter.com/Zeepruk_jfc/status/1564762341324992513\", \"link\": \"\"}, '\n",
            " '\"1564762335192940544\": {\"tweet_id\": \"1564762335192940544\", \"username\": '\n",
            " '\"NFTLadyEve\", \"name\": \"NFTeVe\", \"profile_picture\": '\n",
            " '\"https://twitter.com/NFTLadyEve/photo\", \"replies\": 1, \"retweets\": 0, '\n",
            " '\"likes\": 1, \"is_retweet\": false, \"posted_time\": \"2022-08-30T23:49:47+00:00\", '\n",
            " '\"content\": \"how about Friday at 11 am? that way it will  be 10pm in Thailand '\n",
            " '& we can invite that crew.\\\\n@blossom_melonn\", \"hashtags\": [], \"mentions\": '\n",
            " '[\"blossom_melonn\"], \"images\": [], \"videos\": [], \"tweet_url\": '\n",
            " '\"https://twitter.com/NFTLadyEve/status/1564762335192940544\", \"link\": \"\"}, '\n",
            " '\"1564762170277052418\": {\"tweet_id\": \"1564762170277052418\", \"username\": '\n",
            " '\"AntzAntz1\", \"name\": \"palito..showcase\", \"profile_picture\": '\n",
            " '\"https://twitter.com/AntzAntz1/photo\", \"replies\": 0, \"retweets\": 0, \"likes\": '\n",
            " '0, \"is_retweet\": false, \"posted_time\": \"2022-08-30T23:49:07+00:00\", '\n",
            " '\"content\": \"\\\\u0e40\\\\u0e1b\\\\u0e4a\\\\u0e01 '\n",
            " '\\\\u0e1b\\\\u0e32\\\\u0e25\\\\u0e4c\\\\u0e21\\\\u0e21\\\\u0e35\\\\u0e48 | Disney+ Hotstar '\n",
            " 'Thailand https://youtu.be/541HmrdzmHc via \\\\n@YouTube\\\\n  '\n",
            " '#\\\\u0e40\\\\u0e1b\\\\u0e01\\\\u0e1c\\\\u0e25\\\\u0e34\\\\u0e15\\\\u0e42\\\\u0e0a\\\\u0e04 '\n",
            " '#PeckPaLitChoke\", \"hashtags\": [\"\\\\u0e40\\\\u0e1b\\\\u0e01\\\\u0e1c\\\\u0e25\", '\n",
            " '\"PeckPaLitChoke\"], \"mentions\": [\"YouTube\"], \"images\": [], \"videos\": [], '\n",
            " '\"tweet_url\": \"https://twitter.com/AntzAntz1/status/1564762170277052418\", '\n",
            " '\"link\": \"\"}, \"1564762027507458049\": {\"tweet_id\": \"1564762027507458049\", '\n",
            " '\"username\": \"taraxacumyx\", \"name\": \"Dandelion\", \"profile_picture\": '\n",
            " '\"https://twitter.com/taraxacumyx/photo\", \"replies\": 1, \"retweets\": 0, '\n",
            " '\"likes\": 0, \"is_retweet\": false, \"posted_time\": \"2022-08-30T23:48:33+00:00\", '\n",
            " '\"content\": \"@blueeyellowww\\\\n Yuk nabung buat ke Thailand wkwk\", \"hashtags\": '\n",
            " '[], \"mentions\": [\"blueeyellowww\"], \"images\": [], \"videos\": [], \"tweet_url\": '\n",
            " '\"https://twitter.com/taraxacumyx/status/1564762027507458049\", \"link\": \"\"}, '\n",
            " '\"1564761944061382656\": {\"tweet_id\": \"1564761944061382656\", \"username\": '\n",
            " '\"IrfanHazard10\", \"name\": \"Irfan Rapiansyah\", \"profile_picture\": '\n",
            " '\"https://twitter.com/IrfanHazard10/photo\", \"replies\": 0, \"retweets\": 0, '\n",
            " '\"likes\": 0, \"is_retweet\": false, \"posted_time\": \"2022-08-30T23:48:13+00:00\", '\n",
            " '\"content\": \"Padahal berharap pertama lawan Thailand atau Filipina\", '\n",
            " '\"hashtags\": [], \"mentions\": [], \"images\": [], \"videos\": [], \"tweet_url\": '\n",
            " '\"https://twitter.com/IrfanHazard10/status/1564761944061382656\", \"link\": \"\"}, '\n",
            " '\"1564761905410875392\": {\"tweet_id\": \"1564761905410875392\", \"username\": '\n",
            " '\"moanfIeur\", \"name\": \"\", \"profile_picture\": '\n",
            " '\"https://twitter.com/moanfIeur/photo\", \"replies\": 0, \"retweets\": 0, \"likes\": '\n",
            " '0, \"is_retweet\": false, \"posted_time\": \"2022-08-30T23:48:04+00:00\", '\n",
            " '\"content\": \"Tinggal cari duitnya aja ini mah kalo di Thailand bisa pake '\n",
            " 'Qris\", \"hashtags\": [], \"mentions\": [], \"images\": [], \"videos\": [], '\n",
            " '\"tweet_url\": \"https://twitter.com/moanfIeur/status/1564761905410875392\", '\n",
            " '\"link\": \"\"}}']\n"
          ]
        },
        {
          "output_type": "execute_result",
          "data": {
            "text/plain": [
              "                                                   0\n",
              "0  {\"1564764893038882816\": {\"tweet_id\": \"15647648..."
            ],
            "text/html": [
              "\n",
              "  <div id=\"df-ed215e83-a972-493b-a728-b2c9e67cbc42\" class=\"colab-df-container\">\n",
              "    <div>\n",
              "<style scoped>\n",
              "    .dataframe tbody tr th:only-of-type {\n",
              "        vertical-align: middle;\n",
              "    }\n",
              "\n",
              "    .dataframe tbody tr th {\n",
              "        vertical-align: top;\n",
              "    }\n",
              "\n",
              "    .dataframe thead th {\n",
              "        text-align: right;\n",
              "    }\n",
              "</style>\n",
              "<table border=\"1\" class=\"dataframe\">\n",
              "  <thead>\n",
              "    <tr style=\"text-align: right;\">\n",
              "      <th></th>\n",
              "      <th>0</th>\n",
              "    </tr>\n",
              "  </thead>\n",
              "  <tbody>\n",
              "    <tr>\n",
              "      <th>0</th>\n",
              "      <td>{\"1564764893038882816\": {\"tweet_id\": \"15647648...</td>\n",
              "    </tr>\n",
              "  </tbody>\n",
              "</table>\n",
              "</div>\n",
              "    <div class=\"colab-df-buttons\">\n",
              "\n",
              "  <div class=\"colab-df-container\">\n",
              "    <button class=\"colab-df-convert\" onclick=\"convertToInteractive('df-ed215e83-a972-493b-a728-b2c9e67cbc42')\"\n",
              "            title=\"Convert this dataframe to an interactive table.\"\n",
              "            style=\"display:none;\">\n",
              "\n",
              "  <svg xmlns=\"http://www.w3.org/2000/svg\" height=\"24px\" viewBox=\"0 -960 960 960\">\n",
              "    <path d=\"M120-120v-720h720v720H120Zm60-500h600v-160H180v160Zm220 220h160v-160H400v160Zm0 220h160v-160H400v160ZM180-400h160v-160H180v160Zm440 0h160v-160H620v160ZM180-180h160v-160H180v160Zm440 0h160v-160H620v160Z\"/>\n",
              "  </svg>\n",
              "    </button>\n",
              "\n",
              "  <style>\n",
              "    .colab-df-container {\n",
              "      display:flex;\n",
              "      gap: 12px;\n",
              "    }\n",
              "\n",
              "    .colab-df-convert {\n",
              "      background-color: #E8F0FE;\n",
              "      border: none;\n",
              "      border-radius: 50%;\n",
              "      cursor: pointer;\n",
              "      display: none;\n",
              "      fill: #1967D2;\n",
              "      height: 32px;\n",
              "      padding: 0 0 0 0;\n",
              "      width: 32px;\n",
              "    }\n",
              "\n",
              "    .colab-df-convert:hover {\n",
              "      background-color: #E2EBFA;\n",
              "      box-shadow: 0px 1px 2px rgba(60, 64, 67, 0.3), 0px 1px 3px 1px rgba(60, 64, 67, 0.15);\n",
              "      fill: #174EA6;\n",
              "    }\n",
              "\n",
              "    .colab-df-buttons div {\n",
              "      margin-bottom: 4px;\n",
              "    }\n",
              "\n",
              "    [theme=dark] .colab-df-convert {\n",
              "      background-color: #3B4455;\n",
              "      fill: #D2E3FC;\n",
              "    }\n",
              "\n",
              "    [theme=dark] .colab-df-convert:hover {\n",
              "      background-color: #434B5C;\n",
              "      box-shadow: 0px 1px 3px 1px rgba(0, 0, 0, 0.15);\n",
              "      filter: drop-shadow(0px 1px 2px rgba(0, 0, 0, 0.3));\n",
              "      fill: #FFFFFF;\n",
              "    }\n",
              "  </style>\n",
              "\n",
              "    <script>\n",
              "      const buttonEl =\n",
              "        document.querySelector('#df-ed215e83-a972-493b-a728-b2c9e67cbc42 button.colab-df-convert');\n",
              "      buttonEl.style.display =\n",
              "        google.colab.kernel.accessAllowed ? 'block' : 'none';\n",
              "\n",
              "      async function convertToInteractive(key) {\n",
              "        const element = document.querySelector('#df-ed215e83-a972-493b-a728-b2c9e67cbc42');\n",
              "        const dataTable =\n",
              "          await google.colab.kernel.invokeFunction('convertToInteractive',\n",
              "                                                    [key], {});\n",
              "        if (!dataTable) return;\n",
              "\n",
              "        const docLinkHtml = 'Like what you see? Visit the ' +\n",
              "          '<a target=\"_blank\" href=https://colab.research.google.com/notebooks/data_table.ipynb>data table notebook</a>'\n",
              "          + ' to learn more about interactive tables.';\n",
              "        element.innerHTML = '';\n",
              "        dataTable['output_type'] = 'display_data';\n",
              "        await google.colab.output.renderOutput(dataTable, element);\n",
              "        const docLink = document.createElement('div');\n",
              "        docLink.innerHTML = docLinkHtml;\n",
              "        element.appendChild(docLink);\n",
              "      }\n",
              "    </script>\n",
              "  </div>\n",
              "\n",
              "\n",
              "    </div>\n",
              "  </div>\n"
            ],
            "application/vnd.google.colaboratory.intrinsic+json": {
              "type": "dataframe",
              "variable_name": "tweets_df",
              "summary": "{\n  \"name\": \"tweets_df\",\n  \"rows\": 1,\n  \"fields\": [\n    {\n      \"column\": 0,\n      \"properties\": {\n        \"dtype\": \"string\",\n        \"num_unique_values\": 1,\n        \"samples\": [\n          \"{\\\"1564764893038882816\\\": {\\\"tweet_id\\\": \\\"1564764893038882816\\\", \\\"username\\\": \\\"matthunter\\\", \\\"name\\\": \\\"MATT HUNT\\\\u039eR\\\", \\\"profile_picture\\\": \\\"https://twitter.com/matthunter/photo\\\", \\\"replies\\\": 2, \\\"retweets\\\": 1, \\\"likes\\\": 7, \\\"is_retweet\\\": false, \\\"posted_time\\\": \\\"2022-08-30T23:59:57+00:00\\\", \\\"content\\\": \\\"Thanks for asking! Yes, we will support shipping to most countries, including Japan and Thailand. \\\", \\\"hashtags\\\": [], \\\"mentions\\\": [], \\\"images\\\": [], \\\"videos\\\": [], \\\"tweet_url\\\": \\\"https://twitter.com/matthunter/status/1564764893038882816\\\", \\\"link\\\": \\\"\\\"}, \\\"1564764866598080513\\\": {\\\"tweet_id\\\": \\\"1564764866598080513\\\", \\\"username\\\": \\\"DavSmithVP\\\", \\\"name\\\": \\\"DavSmith / Virtual Photography\\\", \\\"profile_picture\\\": \\\"https://twitter.com/DavSmithVP/photo\\\", \\\"replies\\\": 0, \\\"retweets\\\": 0, \\\"likes\\\": 2, \\\"is_retweet\\\": false, \\\"posted_time\\\": \\\"2022-08-30T23:59:50+00:00\\\", \\\"content\\\": \\\"Tomb Raider Underworld | Thailand \\\\n#VirtualPhotography \\\\n@tombraider\\\\n @crystaldynamics\\\", \\\"hashtags\\\": [\\\"VirtualPhotography\\\"], \\\"mentions\\\": [\\\"tombraider\\\", \\\"crystaldynamics\\\"], \\\"images\\\": [\\\"https://pbs.twimg.com/media/FbcpF-FXkAIlqTS?format=jpg&name=small\\\"], \\\"videos\\\": [], \\\"tweet_url\\\": \\\"https://twitter.com/DavSmithVP/status/1564764866598080513\\\", \\\"link\\\": \\\"\\\"}, \\\"1564764845685280772\\\": {\\\"tweet_id\\\": \\\"1564764845685280772\\\", \\\"username\\\": \\\"DailyPattaya\\\", \\\"name\\\": \\\"The Pattaya Daily\\\", \\\"profile_picture\\\": \\\"https://twitter.com/DailyPattaya/photo\\\", \\\"replies\\\": 0, \\\"retweets\\\": 0, \\\"likes\\\": 0, \\\"is_retweet\\\": false, \\\"posted_time\\\": \\\"2022-08-30T23:59:45+00:00\\\", \\\"content\\\": \\\"The latest The Pattaya Daily! http://thepattayadaily.com Thanks to \\\\n@PopeKael\\\\n @ASEANNOWTH\\\\n #thailand #pattaya\\\", \\\"hashtags\\\": [\\\"thailand\\\", \\\"pattaya\\\"], \\\"mentions\\\": [\\\"PopeKael\\\", \\\"ASEANNOWTH\\\"], \\\"images\\\": [], \\\"videos\\\": [], \\\"tweet_url\\\": \\\"https://twitter.com/DailyPattaya/status/1564764845685280772\\\", \\\"link\\\": \\\"\\\"}, \\\"1564764710804897792\\\": {\\\"tweet_id\\\": \\\"1564764710804897792\\\", \\\"username\\\": \\\"Bryan62766077\\\", \\\"name\\\": \\\"Bryan\\\", \\\"profile_picture\\\": \\\"https://twitter.com/Bryan62766077/photo\\\", \\\"replies\\\": 1, \\\"retweets\\\": 0, \\\"likes\\\": 1, \\\"is_retweet\\\": false, \\\"posted_time\\\": \\\"2022-08-30T23:59:13+00:00\\\", \\\"content\\\": \\\"You can live some places for next to nothing, believe it or not. I pay $300 a month for a really nice apartment in Thailand. All utilities included. No deposit. Close to the beach. Live music clubs everywhere. Meals are about $2\\\", \\\"hashtags\\\": [], \\\"mentions\\\": [], \\\"images\\\": [], \\\"videos\\\": [], \\\"tweet_url\\\": \\\"https://twitter.com/Bryan62766077/status/1564764710804897792\\\", \\\"link\\\": \\\"\\\"}, \\\"1564764468277612549\\\": {\\\"tweet_id\\\": \\\"1564764468277612549\\\", \\\"username\\\": \\\"Megan_and_Grrr\\\", \\\"name\\\": \\\"Megan\\\", \\\"profile_picture\\\": \\\"https://twitter.com/Megan_and_Grrr/photo\\\", \\\"replies\\\": 0, \\\"retweets\\\": 0, \\\"likes\\\": 0, \\\"is_retweet\\\": false, \\\"posted_time\\\": \\\"2022-08-30T23:58:15+00:00\\\", \\\"content\\\": \\\"ALIEN HOUSE is a story of love, hope and alien intervention set in Wales, Thailand and Inner Space. It's a #fantasy story about #extraterrestrial contact and the conflict between a man and his inner voice or alter ego. William is not sure if he's going mad https://smarturl.it/alien-house-eng?IQid=jbmegan\\\\u2026\\\", \\\"hashtags\\\": [\\\"fantasy\\\", \\\"extraterrestrial\\\"], \\\"mentions\\\": [], \\\"images\\\": [\\\"https://pbs.twimg.com/media/Fbco_bSXEAMcDOZ?format=jpg&name=small\\\"], \\\"videos\\\": [], \\\"tweet_url\\\": \\\"https://twitter.com/Megan_and_Grrr/status/1564764468277612549\\\", \\\"link\\\": \\\"\\\"}, \\\"1564764445825458181\\\": {\\\"tweet_id\\\": \\\"1564764445825458181\\\", \\\"username\\\": \\\"OhmPawatInter\\\", \\\"name\\\": \\\"OhmPawat International\\\", \\\"profile_picture\\\": \\\"https://twitter.com/OhmPawatInter/photo\\\", \\\"replies\\\": 0, \\\"retweets\\\": 99, \\\"likes\\\": 143, \\\"is_retweet\\\": false, \\\"posted_time\\\": \\\"2022-08-30T23:58:10+00:00\\\", \\\"content\\\": \\\"Trend twitter update \\\\n\\\\nTop Twitter influencers in Thailand today \\\\n#4 \\\\n@ohmpawatt\\\\nInfluence Score: 19442\\\\n7 top tweets\\\\n25182 retweets\\\\n\\\\nhttps://etrenders.com/trendsetters/Thailand\\\\u2026\\\\n#ohmpawat #\\\\u0e22\\\\u0e34\\\\u0e49\\\\u0e215\\\\u0e1e\\\\u0e31\\\\u0e19\\\\u0e02\\\\u0e2d\\\\u0e07\\\\u0e42\\\\u0e2d\\\\u0e21\\\\u0e20\\\\u0e27\\\\u0e31\\\\u0e15\\\", \\\"hashtags\\\": [\\\"4\\\", \\\"ohmpawat\\\", \\\"\\\\u0e22\\\"], \\\"mentions\\\": [\\\"ohmpawatt\\\"], \\\"images\\\": [\\\"https://pbs.twimg.com/media/Fbco99jWIAEd3Oe?format=jpg&name=small\\\", \\\"https://pbs.twimg.com/media/Fbco-JwWYAE7oLy?format=jpg&name=small\\\"], \\\"videos\\\": [], \\\"tweet_url\\\": \\\"https://twitter.com/OhmPawatInter/status/1564764445825458181\\\", \\\"link\\\": \\\"\\\"}, \\\"1564764361742110720\\\": {\\\"tweet_id\\\": \\\"1564764361742110720\\\", \\\"username\\\": \\\"nato_tonyo11\\\", \\\"name\\\": \\\"nutri(BUSY SI ENGR.)| SoliD\\\", \\\"profile_picture\\\": \\\"https://twitter.com/nato_tonyo11/photo\\\", \\\"replies\\\": 0, \\\"retweets\\\": 2, \\\"likes\\\": 18, \\\"is_retweet\\\": false, \\\"posted_time\\\": \\\"2022-08-30T23:57:50+00:00\\\", \\\"content\\\": \\\"Good morning  world! And goodmorning to you too #DonnyPangilinan, enjoy Thailand babe and please do take selfies out there!, pagod nakong makikitang sapatos pa din nasa igs mo!!\\\", \\\"hashtags\\\": [\\\"DonnyPangilinan\\\"], \\\"mentions\\\": [], \\\"images\\\": [], \\\"videos\\\": [], \\\"tweet_url\\\": \\\"https://twitter.com/nato_tonyo11/status/1564764361742110720\\\", \\\"link\\\": \\\"\\\"}, \\\"1564764274098323456\\\": {\\\"tweet_id\\\": \\\"1564764274098323456\\\", \\\"username\\\": \\\"ThThitikarn61\\\", \\\"name\\\": \\\"thiti\\\", \\\"profile_picture\\\": \\\"https://twitter.com/ThThitikarn61/photo\\\", \\\"replies\\\": 0, \\\"retweets\\\": 0, \\\"likes\\\": 0, \\\"is_retweet\\\": false, \\\"posted_time\\\": \\\"2022-08-30T23:57:29+00:00\\\", \\\"content\\\": \\\"Listening to #faraway the title track of #theotherside album by #MarkTuan \\\\n@marktuan\\\\n while traveling to Thailand\\\", \\\"hashtags\\\": [\\\"faraway\\\", \\\"theotherside\\\", \\\"MarkTuan\\\"], \\\"mentions\\\": [\\\"marktuan\\\"], \\\"images\\\": [], \\\"videos\\\": [], \\\"tweet_url\\\": \\\"https://twitter.com/ThThitikarn61/status/1564764274098323456\\\", \\\"link\\\": \\\"\\\"}, \\\"1564764028014313472\\\": {\\\"tweet_id\\\": \\\"1564764028014313472\\\", \\\"username\\\": \\\"Livetradingnews\\\", \\\"name\\\": \\\"Knightly News\\\", \\\"profile_picture\\\": \\\"https://twitter.com/Livetradingnews/photo\\\", \\\"replies\\\": 0, \\\"retweets\\\": 2, \\\"likes\\\": 3, \\\"is_retweet\\\": false, \\\"posted_time\\\": \\\"2022-08-30T23:56:30+00:00\\\", \\\"content\\\": \\\"With the recent news of the SCB X-Bitkub deal falling apart and the Zipmex incident, investors in Thailand's digital currency market are facing a negative outlook\\\", \\\"hashtags\\\": [], \\\"mentions\\\": [], \\\"images\\\": [], \\\"videos\\\": [], \\\"tweet_url\\\": \\\"https://twitter.com/Livetradingnews/status/1564764028014313472\\\", \\\"link\\\": \\\"\\\"}, \\\"1564763907700531202\\\": {\\\"tweet_id\\\": \\\"1564763907700531202\\\", \\\"username\\\": \\\"DiscoverSoc\\\", \\\"name\\\": \\\"Discover Society\\\", \\\"profile_picture\\\": \\\"https://twitter.com/DiscoverSoc/photo\\\", \\\"replies\\\": 0, \\\"retweets\\\": 1, \\\"likes\\\": 0, \\\"is_retweet\\\": false, \\\"posted_time\\\": \\\"2022-08-30T23:56:02+00:00\\\", \\\"content\\\": \\\"#ICYMI  On the Frontline. Crude Power in Thailand\\\\u2019s 2014 Coup: Old Soldiers Almost Die\\\", \\\"hashtags\\\": [\\\"ICYMI\\\"], \\\"mentions\\\": [], \\\"images\\\": [], \\\"videos\\\": [], \\\"tweet_url\\\": \\\"https://twitter.com/DiscoverSoc/status/1564763907700531202\\\", \\\"link\\\": \\\"https://t.co/OYQzv4BSm9\\\"}, \\\"1564763775403712513\\\": {\\\"tweet_id\\\": \\\"1564763775403712513\\\", \\\"username\\\": \\\"Onside10900651\\\", \\\"name\\\": \\\"Onside\\\", \\\"profile_picture\\\": \\\"https://twitter.com/Onside10900651/photo\\\", \\\"replies\\\": 0, \\\"retweets\\\": 0, \\\"likes\\\": 0, \\\"is_retweet\\\": false, \\\"posted_time\\\": \\\"2022-08-30T23:55:30+00:00\\\", \\\"content\\\": \\\"And I thought Thailand was absolutely democratic?\\\", \\\"hashtags\\\": [], \\\"mentions\\\": [], \\\"images\\\": [], \\\"videos\\\": [], \\\"tweet_url\\\": \\\"https://twitter.com/Onside10900651/status/1564763775403712513\\\", \\\"link\\\": \\\"\\\"}, \\\"1564763746463105026\\\": {\\\"tweet_id\\\": \\\"1564763746463105026\\\", \\\"username\\\": \\\"lekwilliams\\\", \\\"name\\\": \\\"Lek\\\", \\\"profile_picture\\\": \\\"https://twitter.com/lekwilliams/photo\\\", \\\"replies\\\": 0, \\\"retweets\\\": 0, \\\"likes\\\": 0, \\\"is_retweet\\\": false, \\\"posted_time\\\": \\\"2022-08-30T23:55:23+00:00\\\", \\\"content\\\": \\\"How far would you go to save the family farm and keep your siblings in school? Read what Lek did in 'Behind The Smile, the story of Lek, a bar girl in Pattaya' by Owen Jones! https://smarturl.it/BTS-boxset?IQid=SJB-lw-thailand\\\\u2026 #pattaya #Thailand Please retweet\\\", \\\"hashtags\\\": [\\\"pattaya\\\", \\\"Thailand\\\"], \\\"mentions\\\": [], \\\"images\\\": [\\\"https://pbs.twimg.com/media/FbcoVHpWIAEh_R0?format=jpg&name=small\\\"], \\\"videos\\\": [], \\\"tweet_url\\\": \\\"https://twitter.com/lekwilliams/status/1564763746463105026\\\", \\\"link\\\": \\\"\\\"}, \\\"1564763729967054848\\\": {\\\"tweet_id\\\": \\\"1564763729967054848\\\", \\\"username\\\": \\\"o_rung_o1\\\", \\\"name\\\": \\\"o_Rung_o\\\", \\\"profile_picture\\\": \\\"https://twitter.com/o_rung_o1/photo\\\", \\\"replies\\\": 0, \\\"retweets\\\": 28, \\\"likes\\\": 15, \\\"is_retweet\\\": false, \\\"posted_time\\\": \\\"2022-08-30T23:55:19+00:00\\\", \\\"content\\\": \\\"\\\\u0e27\\\\u0e31\\\\u0e19\\\\u0e19\\\\u0e35\\\\u0e49\\\\u0e27\\\\u0e31\\\\u0e19\\\\u0e2a\\\\u0e38\\\\u0e14\\\\u0e17\\\\u0e49\\\\u0e32\\\\u0e22\\\\u0e02\\\\u0e2d\\\\u0e07\\\\u0e01\\\\u0e32\\\\u0e23\\\\u0e42\\\\u0e2b\\\\u0e27\\\\u0e15 \\\\u0e23\\\\u0e32\\\\u0e07\\\\u0e27\\\\u0e31\\\\u0e25 Outstanding Asian Star Thailand #SDA2022 \\\\u0e43\\\\u0e2b\\\\u0e49\\\\u0e19\\\\u0e49\\\\u0e2d\\\\u0e07\\\\u0e1e\\\\u0e35\\\\u0e1e\\\\u0e35\\\\u0e41\\\\u0e25\\\\u0e49\\\\u0e27\\\\u0e19\\\\u0e30\\\\u0e04\\\\u0e30 \\\\n\\\\u0e21\\\\u0e32\\\\u0e1e\\\\u0e32\\\\u0e19\\\\u0e49\\\\u0e2d\\\\u0e07\\\\u0e44\\\\u0e1b\\\\u0e23\\\\u0e31\\\\u0e1a\\\\u0e16\\\\u0e49\\\\u0e27\\\\u0e22\\\\u0e23\\\\u0e32\\\\u0e07\\\\u0e27\\\\u0e31\\\\u0e252\\\\u0e1b\\\\u0e35\\\\u0e0b\\\\u0e49\\\\u0e2d\\\\u0e19\\\\u0e01\\\\u0e31\\\\u0e19\\\\u0e04\\\\u0e48\\\\u0e30\\\\n#voteforppkritt \\\\n#ppkritt\\\", \\\"hashtags\\\": [\\\"SDA2022\\\", \\\"voteforppkritt\\\", \\\"ppkritt\\\"], \\\"mentions\\\": [], \\\"images\\\": [\\\"https://pbs.twimg.com/media/FbcoUQAaQAAIFME?format=jpg&name=small\\\"], \\\"videos\\\": [], \\\"tweet_url\\\": \\\"https://twitter.com/o_rung_o1/status/1564763729967054848\\\", \\\"link\\\": \\\"\\\"}, \\\"1564763679232405504\\\": {\\\"tweet_id\\\": \\\"1564763679232405504\\\", \\\"username\\\": \\\"sixhav\\\", \\\"name\\\": \\\"shi bangs\\\", \\\"profile_picture\\\": \\\"https://twitter.com/sixhav/photo\\\", \\\"replies\\\": 1, \\\"retweets\\\": 0, \\\"likes\\\": 1, \\\"is_retweet\\\": false, \\\"posted_time\\\": \\\"2022-08-30T23:55:07+00:00\\\", \\\"content\\\": \\\"right? 2 years ago he is just a simple born and raised guy from thailand who can barely speak thai and likes to do diys and make everything about math i just love how authentic he is hahaha have you seen his 1000 push ups one? \\\", \\\"hashtags\\\": [], \\\"mentions\\\": [], \\\"images\\\": [], \\\"videos\\\": [], \\\"tweet_url\\\": \\\"https://twitter.com/sixhav/status/1564763679232405504\\\", \\\"link\\\": \\\"\\\"}, \\\"1564763673662464003\\\": {\\\"tweet_id\\\": \\\"1564763673662464003\\\", \\\"username\\\": \\\"JaeJazee\\\", \\\"name\\\": \\\"\\\\u24b7\\\\u24c9\\\\u24c8ARMY\\\\ud560\\\\uba38\\\\ub2c8\\\\u1d36\\\\u1d39\\\\u1d36\\\\u1d37\\\\u00b3\\\\u1d36\\\", \\\"profile_picture\\\": \\\"https://twitter.com/JaeJazee/photo\\\", \\\"replies\\\": 0, \\\"retweets\\\": 0, \\\"likes\\\": 0, \\\"is_retweet\\\": false, \\\"posted_time\\\": \\\"2022-08-30T23:55:06+00:00\\\", \\\"content\\\": \\\"I knew I heard the beginning speech that Lisa had an Australian accent.  It is not that she is from Australia but Thailand... here is the explanation...\\\", \\\"hashtags\\\": [], \\\"mentions\\\": [], \\\"images\\\": [\\\"https://pbs.twimg.com/media/FbcoKGTWAAAA0-D?format=png&name=900x900\\\"], \\\"videos\\\": [], \\\"tweet_url\\\": \\\"https://twitter.com/JaeJazee/status/1564763673662464003\\\", \\\"link\\\": \\\"\\\"}, \\\"1564763553130655744\\\": {\\\"tweet_id\\\": \\\"1564763553130655744\\\", \\\"username\\\": \\\"chak4793\\\", \\\"name\\\": \\\"\\\\u00a2\\\\u043d\\\\u03b1\\\\u043a.\\\\u0454\\\\u0442\\\\u043d\\\", \\\"profile_picture\\\": \\\"https://twitter.com/chak4793/photo\\\", \\\"replies\\\": 1, \\\"retweets\\\": 0, \\\"likes\\\": 7, \\\"is_retweet\\\": false, \\\"posted_time\\\": \\\"2022-08-30T23:54:37+00:00\\\", \\\"content\\\": \\\"Can fluf merch send to Asian countries like Japan or Thailand?\\\", \\\"hashtags\\\": [], \\\"mentions\\\": [], \\\"images\\\": [], \\\"videos\\\": [], \\\"tweet_url\\\": \\\"https://twitter.com/chak4793/status/1564763553130655744\\\", \\\"link\\\": \\\"\\\"}, \\\"1564763407818952705\\\": {\\\"tweet_id\\\": \\\"1564763407818952705\\\", \\\"username\\\": \\\"SarahJa56317435\\\", \\\"name\\\": \\\"j\\\", \\\"profile_picture\\\": \\\"https://twitter.com/SarahJa56317435/photo\\\", \\\"replies\\\": 0, \\\"retweets\\\": 0, \\\"likes\\\": 0, \\\"is_retweet\\\": false, \\\"posted_time\\\": \\\"2022-08-30T23:54:02+00:00\\\", \\\"content\\\": \\\"= and the French people and also Thailand's people that have not thrown lethal military barracks gas at an 'Enemy of Thought' are the races to not survive a space race Masterclass\\\", \\\"hashtags\\\": [], \\\"mentions\\\": [], \\\"images\\\": [], \\\"videos\\\": [], \\\"tweet_url\\\": \\\"https://twitter.com/SarahJa56317435/status/1564763407818952705\\\", \\\"link\\\": \\\"\\\"}, \\\"1564763389058027521\\\": {\\\"tweet_id\\\": \\\"1564763389058027521\\\", \\\"username\\\": \\\"starrykws\\\", \\\"name\\\": \\\"em \\\\u263e\\\", \\\"profile_picture\\\": \\\"https://twitter.com/starrykws/photo\\\", \\\"replies\\\": 0, \\\"retweets\\\": 0, \\\"likes\\\": 0, \\\"is_retweet\\\": false, \\\"posted_time\\\": \\\"2022-08-30T23:53:58+00:00\\\", \\\"content\\\": \\\"woo.ddadda in thailand \\\", \\\"hashtags\\\": [], \\\"mentions\\\": [], \\\"images\\\": [\\\"https://pbs.twimg.com/media/FbcoAO_XkAA-Isn?format=jpg&name=360x360\\\", \\\"https://pbs.twimg.com/media/FbcoAPDXEAYc26T?format=jpg&name=360x360\\\"], \\\"videos\\\": [], \\\"tweet_url\\\": \\\"https://twitter.com/starrykws/status/1564763389058027521\\\", \\\"link\\\": \\\"\\\"}, \\\"1564763303989366784\\\": {\\\"tweet_id\\\": \\\"1564763303989366784\\\", \\\"username\\\": \\\"aisseutea\\\", \\\"name\\\": \\\"Cynthia Dewi\\\", \\\"profile_picture\\\": \\\"https://twitter.com/aisseutea/photo\\\", \\\"replies\\\": 1, \\\"retweets\\\": 0, \\\"likes\\\": 0, \\\"is_retweet\\\": false, \\\"posted_time\\\": \\\"2022-08-30T23:53:38+00:00\\\", \\\"content\\\": \\\"Kalo di thailand bukan dong :)\\\", \\\"hashtags\\\": [], \\\"mentions\\\": [], \\\"images\\\": [], \\\"videos\\\": [], \\\"tweet_url\\\": \\\"https://twitter.com/aisseutea/status/1564763303989366784\\\", \\\"link\\\": \\\"\\\"}, \\\"1564763292354355200\\\": {\\\"tweet_id\\\": \\\"1564763292354355200\\\", \\\"username\\\": \\\"LDN327\\\", \\\"name\\\": \\\"LDN327\\\", \\\"profile_picture\\\": \\\"https://twitter.com/LDN327/photo\\\", \\\"replies\\\": 1, \\\"retweets\\\": 7, \\\"likes\\\": 5, \\\"is_retweet\\\": false, \\\"posted_time\\\": \\\"2022-08-30T23:53:35+00:00\\\", \\\"content\\\": \\\"- please engage\\\\n\\\\nELLE Thailand  \\\\n https://instagram.com/p/Ch02SH7hGpq/ \\\\n  https://instagram.com/p/Ch0xESZB1kr/ \\\\n\\\\n#LISA #LALISA #Money\\\", \\\"hashtags\\\": [\\\"LISA\\\", \\\"LALISA\\\", \\\"Money\\\"], \\\"mentions\\\": [], \\\"images\\\": [], \\\"videos\\\": [], \\\"tweet_url\\\": \\\"https://twitter.com/LDN327/status/1564763292354355200\\\", \\\"link\\\": \\\"https://t.co/6aZ539h9RK\\\"}, \\\"1564763185244426240\\\": {\\\"tweet_id\\\": \\\"1564763185244426240\\\", \\\"username\\\": \\\"Jay_beebee\\\", \\\"name\\\": \\\"Jay Bee\\\", \\\"profile_picture\\\": \\\"https://twitter.com/Jay_beebee/photo\\\", \\\"replies\\\": 1, \\\"retweets\\\": 7, \\\"likes\\\": 7, \\\"is_retweet\\\": true, \\\"posted_time\\\": \\\"2022-08-30T23:53:09+00:00\\\", \\\"content\\\": \\\"\\\\u0e1e\\\\u0e23\\\\u0e49\\\\u0e2d\\\\u0e21\\\\u0e04\\\\u0e23\\\\u0e31\\\\u0e0a\\\\n\\\\nPlease,come to thailand.\\\\n \\\\n\\\\n#JAYB #\\\\uc81c\\\\uc774\\\\ube44 \\\\n@jaybnow_hr\\\\n#GOT7 #\\\\uac13\\\\uc138\\\\ube10 \\\\n@GOT7\\\\n#CDNZA \\\\n@cdnzarecords\\\\n#Def\\\", \\\"hashtags\\\": [\\\"JAYB\\\", \\\"\\\\uc81c\\\\uc774\\\\ube44\\\", \\\"GOT7\\\", \\\"\\\\uac13\\\\uc138\\\\ube10\\\", \\\"CDNZA\\\", \\\"Def\\\"], \\\"mentions\\\": [\\\"jaybnow_hr\\\", \\\"GOT7\\\", \\\"cdnzarecords\\\"], \\\"images\\\": [\\\"https://pbs.twimg.com/media/FbcmB6RUEAA75m6?format=jpg&name=small\\\"], \\\"videos\\\": [], \\\"tweet_url\\\": \\\"https://twitter.com/Jay_beebee/status/1564763185244426240\\\", \\\"link\\\": \\\"\\\"}, \\\"1564763141589897217\\\": {\\\"tweet_id\\\": \\\"1564763141589897217\\\", \\\"username\\\": \\\"Iovelydoll\\\", \\\"name\\\": \\\"\\\", \\\"profile_picture\\\": \\\"https://twitter.com/Iovelydoll/photo\\\", \\\"replies\\\": 0, \\\"retweets\\\": 0, \\\"likes\\\": 3, \\\"is_retweet\\\": true, \\\"posted_time\\\": \\\"2022-08-30T23:52:59+00:00\\\", \\\"content\\\": \\\"we need more ten vlogs in thailand...a girl can dream\\\", \\\"hashtags\\\": [], \\\"mentions\\\": [], \\\"images\\\": [\\\"https://pbs.twimg.com/media/EDNptiHUEAAqdwm?format=jpg&name=small\\\"], \\\"videos\\\": [], \\\"tweet_url\\\": \\\"https://twitter.com/Iovelydoll/status/1564763141589897217\\\", \\\"link\\\": \\\"\\\"}, \\\"1564763050477244417\\\": {\\\"tweet_id\\\": \\\"1564763050477244417\\\", \\\"username\\\": \\\"jaemmrchv\\\", \\\"name\\\": \\\"wonyoungiii | surprise cutie\\\", \\\"profile_picture\\\": \\\"https://twitter.com/jaemmrchv/photo\\\", \\\"replies\\\": 0, \\\"retweets\\\": 1, \\\"likes\\\": 0, \\\"is_retweet\\\": false, \\\"posted_time\\\": \\\"2022-08-30T23:52:37+00:00\\\", \\\"content\\\": \\\"@NaEMwi\\\\n @jaemwinner\\\\n @JAEMIN_THAILAND\\\", \\\"hashtags\\\": [], \\\"mentions\\\": [\\\"NaEMwi\\\", \\\"jaemwinner\\\", \\\"JAEMIN_THAILAND\\\"], \\\"images\\\": [], \\\"videos\\\": [], \\\"tweet_url\\\": \\\"https://twitter.com/jaemmrchv/status/1564763050477244417\\\", \\\"link\\\": \\\"\\\"}, \\\"1564762341324992513\\\": {\\\"tweet_id\\\": \\\"1564762341324992513\\\", \\\"username\\\": \\\"Zeepruk_jfc\\\", \\\"name\\\": \\\"ZeePruk_JapanFC\\\\uff08Rest\\\\uff09\\\", \\\"profile_picture\\\": \\\"https://twitter.com/Zeepruk_jfc/photo\\\", \\\"replies\\\": 2, \\\"retweets\\\": 54, \\\"likes\\\": 32, \\\"is_retweet\\\": false, \\\"posted_time\\\": \\\"2022-08-30T23:49:48+00:00\\\", \\\"content\\\": \\\"Can you help me?\\\\n\\\\ntracking number\\\\nFMP200001150XX\\\\n\\\\nDoes anyone know a shipping company in Thailand that handles this number?\\\\nI'm in trouble with no reply even if I contact the caller \\\\n\\\\n#Zunshine\\\", \\\"hashtags\\\": [\\\"Zunshine\\\"], \\\"mentions\\\": [], \\\"images\\\": [], \\\"videos\\\": [], \\\"tweet_url\\\": \\\"https://twitter.com/Zeepruk_jfc/status/1564762341324992513\\\", \\\"link\\\": \\\"\\\"}, \\\"1564762335192940544\\\": {\\\"tweet_id\\\": \\\"1564762335192940544\\\", \\\"username\\\": \\\"NFTLadyEve\\\", \\\"name\\\": \\\"NFTeVe\\\", \\\"profile_picture\\\": \\\"https://twitter.com/NFTLadyEve/photo\\\", \\\"replies\\\": 1, \\\"retweets\\\": 0, \\\"likes\\\": 1, \\\"is_retweet\\\": false, \\\"posted_time\\\": \\\"2022-08-30T23:49:47+00:00\\\", \\\"content\\\": \\\"how about Friday at 11 am? that way it will  be 10pm in Thailand & we can invite that crew.\\\\n@blossom_melonn\\\", \\\"hashtags\\\": [], \\\"mentions\\\": [\\\"blossom_melonn\\\"], \\\"images\\\": [], \\\"videos\\\": [], \\\"tweet_url\\\": \\\"https://twitter.com/NFTLadyEve/status/1564762335192940544\\\", \\\"link\\\": \\\"\\\"}, \\\"1564762170277052418\\\": {\\\"tweet_id\\\": \\\"1564762170277052418\\\", \\\"username\\\": \\\"AntzAntz1\\\", \\\"name\\\": \\\"palito..showcase\\\", \\\"profile_picture\\\": \\\"https://twitter.com/AntzAntz1/photo\\\", \\\"replies\\\": 0, \\\"retweets\\\": 0, \\\"likes\\\": 0, \\\"is_retweet\\\": false, \\\"posted_time\\\": \\\"2022-08-30T23:49:07+00:00\\\", \\\"content\\\": \\\"\\\\u0e40\\\\u0e1b\\\\u0e4a\\\\u0e01 \\\\u0e1b\\\\u0e32\\\\u0e25\\\\u0e4c\\\\u0e21\\\\u0e21\\\\u0e35\\\\u0e48 | Disney+ Hotstar Thailand https://youtu.be/541HmrdzmHc via \\\\n@YouTube\\\\n  #\\\\u0e40\\\\u0e1b\\\\u0e01\\\\u0e1c\\\\u0e25\\\\u0e34\\\\u0e15\\\\u0e42\\\\u0e0a\\\\u0e04 #PeckPaLitChoke\\\", \\\"hashtags\\\": [\\\"\\\\u0e40\\\\u0e1b\\\\u0e01\\\\u0e1c\\\\u0e25\\\", \\\"PeckPaLitChoke\\\"], \\\"mentions\\\": [\\\"YouTube\\\"], \\\"images\\\": [], \\\"videos\\\": [], \\\"tweet_url\\\": \\\"https://twitter.com/AntzAntz1/status/1564762170277052418\\\", \\\"link\\\": \\\"\\\"}, \\\"1564762027507458049\\\": {\\\"tweet_id\\\": \\\"1564762027507458049\\\", \\\"username\\\": \\\"taraxacumyx\\\", \\\"name\\\": \\\"Dandelion\\\", \\\"profile_picture\\\": \\\"https://twitter.com/taraxacumyx/photo\\\", \\\"replies\\\": 1, \\\"retweets\\\": 0, \\\"likes\\\": 0, \\\"is_retweet\\\": false, \\\"posted_time\\\": \\\"2022-08-30T23:48:33+00:00\\\", \\\"content\\\": \\\"@blueeyellowww\\\\n Yuk nabung buat ke Thailand wkwk\\\", \\\"hashtags\\\": [], \\\"mentions\\\": [\\\"blueeyellowww\\\"], \\\"images\\\": [], \\\"videos\\\": [], \\\"tweet_url\\\": \\\"https://twitter.com/taraxacumyx/status/1564762027507458049\\\", \\\"link\\\": \\\"\\\"}, \\\"1564761944061382656\\\": {\\\"tweet_id\\\": \\\"1564761944061382656\\\", \\\"username\\\": \\\"IrfanHazard10\\\", \\\"name\\\": \\\"Irfan Rapiansyah\\\", \\\"profile_picture\\\": \\\"https://twitter.com/IrfanHazard10/photo\\\", \\\"replies\\\": 0, \\\"retweets\\\": 0, \\\"likes\\\": 0, \\\"is_retweet\\\": false, \\\"posted_time\\\": \\\"2022-08-30T23:48:13+00:00\\\", \\\"content\\\": \\\"Padahal berharap pertama lawan Thailand atau Filipina\\\", \\\"hashtags\\\": [], \\\"mentions\\\": [], \\\"images\\\": [], \\\"videos\\\": [], \\\"tweet_url\\\": \\\"https://twitter.com/IrfanHazard10/status/1564761944061382656\\\", \\\"link\\\": \\\"\\\"}, \\\"1564761905410875392\\\": {\\\"tweet_id\\\": \\\"1564761905410875392\\\", \\\"username\\\": \\\"moanfIeur\\\", \\\"name\\\": \\\"\\\", \\\"profile_picture\\\": \\\"https://twitter.com/moanfIeur/photo\\\", \\\"replies\\\": 0, \\\"retweets\\\": 0, \\\"likes\\\": 0, \\\"is_retweet\\\": false, \\\"posted_time\\\": \\\"2022-08-30T23:48:04+00:00\\\", \\\"content\\\": \\\"Tinggal cari duitnya aja ini mah kalo di Thailand bisa pake Qris\\\", \\\"hashtags\\\": [], \\\"mentions\\\": [], \\\"images\\\": [], \\\"videos\\\": [], \\\"tweet_url\\\": \\\"https://twitter.com/moanfIeur/status/1564761905410875392\\\", \\\"link\\\": \\\"\\\"}}\"\n        ],\n        \"semantic_type\": \"\",\n        \"description\": \"\"\n      }\n    }\n  ]\n}"
            }
          },
          "metadata": {},
          "execution_count": 21
        }
      ]
    },
    {
      "cell_type": "markdown",
      "id": "e421eb6b",
      "metadata": {
        "id": "e421eb6b"
      },
      "source": [
        "#### Report: จงตอบคำถามต่อไปนี้\n",
        "* The total number of tweets collected in the file\n",
        "* The content of the first tweet:\n",
        "* Is the first tweet contained any hashtags or mentions?\n",
        "* Collect all hashtags related to Thailand from this data\n",
        "* Find the most popular tweets in your collection of tweets, i.e. the tweets with the largest number of retweet/replies/likes counts  \n",
        "* Display the top 5 tweets that are the most popular among your collection \\\n",
        "สามารถใช้ `np.argsort(<list>)[:5]` ซึ่งจะแสดงผล indices ของการเรียงค่าจากน้อยสุดไปมากสุด จำนวน 5 ค่า และ `np.argsort(<list>)[::-1][:5]` จะแสดงผล indices ของการเรียงค่าจากมากไปน้อยจำนวน 5 ค่า (https://numpy.org/doc/stable/reference/generated/numpy.argsort.html)\n",
        "* Create a word cloud of words in the contents; however, we note that this word cloud is not a good representation of Thailand as the data size is small"
      ]
    },
    {
      "cell_type": "markdown",
      "source": [
        "#### รายงาน: จงตอบคำถามต่อไปนี้\n",
        "* จำนวนทั้งหมดของทวีตที่รวบรวมในไฟล์\n",
        "* เนื้อหาของทวีตครั้งแรก:\n",
        "* ทวีตครั้งแรกมีแฮชแท็กหรือการกล่าวถึงใด ๆ หรือไม่?\n",
        "* รวบรวมแฮชแท็กทั้งหมดที่เกี่ยวข้องกับประเทศไทยจากข้อมูลนี้\n",
        "* ค้นหาทวีตที่นิยมที่สุดในคอลเลกชันของทวีตของคุณ, นั่นคือทวีตที่มีจำนวนที่สุดของ retweet / ตอบ / ชอบนับ\n",
        "* แสดง 5 ทวีตด้านบนที่เป็นที่นิยมมากที่สุดในกลุ่มของคุณ\n",
        "สามารถใช้ ` np.argsort () [:5]` ซึ่งจะแสดงผล ดัชนี ของการเรียงค่าจากน้อยสุดไปมากสุด จำนวน 5 ค่า และ ` np.argsort () [::-1][:5]` จะแสดงผล ดัชนี ของการเรียงค่าจากมากไปน้อยจำนวน 5 ค่า ( https://numpy.org/doc/stable/reference/generated/numpy.argsort.html )\n",
        "* สร้างเมฆคำของคำในเนื้อหา อย่างไรก็ตาม เราสังเกตว่าคำว่า cloud นี้ไม่ได้เป็นตัวแทนที่ดีของประเทศไทย เนื่องจากขนาดข้อมูลน้อย"
      ],
      "metadata": {
        "id": "ZD-UjUOn6Y9r"
      },
      "id": "ZD-UjUOn6Y9r"
    },
    {
      "cell_type": "code",
      "source": [],
      "metadata": {
        "id": "DxtPdDqd4TyH"
      },
      "id": "DxtPdDqd4TyH",
      "execution_count": null,
      "outputs": []
    },
    {
      "cell_type": "markdown",
      "id": "383b25c2",
      "metadata": {
        "id": "383b25c2"
      },
      "source": [
        "## Problem 2: Study Collected Yelp Reviews"
      ]
    },
    {
      "cell_type": "markdown",
      "id": "f04969cf",
      "metadata": {
        "id": "f04969cf"
      },
      "source": [
        "![](https://techcrunch.com/wp-content/uploads/2022/08/Yelp-Android_Full-Experience.jpg?w=1390&crop=1)"
      ]
    },
    {
      "cell_type": "markdown",
      "id": "4069d9f2",
      "metadata": {
        "id": "4069d9f2"
      },
      "source": [
        "ดาวน์โหลด Yelp dataset เกี่ยวกับรีวิวของผู้ใช้บริการธุรกิจต่าง ๆ จาก https://www.yelp.com/dataset\n",
        "<br>\n",
        "รายละเอียดข้อมูล https://www.yelp.com/dataset/documentation/main\n",
        "<br>\n",
        "ให้ศึกษาข้อมูลจากไฟล์ yelp_academic_dataset_review.json, yelp_academic_dataset_business.json, และ yelp_academic_dataset_user.json"
      ]
    },
    {
      "cell_type": "markdown",
      "id": "d4692d1f",
      "metadata": {
        "id": "d4692d1f"
      },
      "source": [
        "### อ่านข้อมูล Reviews, Businesses, และ Users เป็นจำนวน 100,000 รีวิว"
      ]
    },
    {
      "cell_type": "code",
      "execution_count": null,
      "id": "1be6476f",
      "metadata": {
        "id": "1be6476f"
      },
      "outputs": [],
      "source": [
        "# เปลี่ยน path ของ working directory เช่น ที่ไหนใน Google Drive\n",
        "myDirectory = \"/Users/pitchayaw/Desktop/TeachingKKU/BasicOfDS/CaseStudy2/\"\n",
        "reviewFilePath = \"yelp_academic_dataset_review.json\"\n",
        "businessFilePath = \"yelp_academic_dataset_business.json\"\n",
        "userFilePath = \"yelp_academic_dataset_user.json\""
      ]
    },
    {
      "cell_type": "markdown",
      "id": "8f6b3215",
      "metadata": {
        "id": "8f6b3215"
      },
      "source": [
        "อ่านข้อมูล review"
      ]
    },
    {
      "cell_type": "code",
      "execution_count": null,
      "id": "1c05f8e8",
      "metadata": {
        "id": "1c05f8e8"
      },
      "outputs": [],
      "source": [
        "# We only use the first 100,000 reviews\n",
        "n = 100000\n",
        "reviews = []\n",
        "with open(myDirectory+reviewFilePath) as fl:\n",
        "    for i, line in enumerate(fl):\n",
        "        reviews.append(json.loads(line))\n",
        "        if i+1 >= n:\n",
        "            break\n",
        "reviews = pd.DataFrame(reviews)\n",
        "reviews.head()"
      ]
    },
    {
      "cell_type": "code",
      "execution_count": null,
      "id": "3507890b",
      "metadata": {
        "id": "3507890b",
        "scrolled": true
      },
      "outputs": [],
      "source": [
        "reviews.info()"
      ]
    },
    {
      "cell_type": "markdown",
      "id": "913c1754",
      "metadata": {
        "id": "913c1754"
      },
      "source": [
        "อ่านข้อมูล business"
      ]
    },
    {
      "cell_type": "code",
      "execution_count": null,
      "id": "3106cea8",
      "metadata": {
        "id": "3106cea8",
        "scrolled": true
      },
      "outputs": [],
      "source": [
        "businesses = []\n",
        "with open(myDirectory+businessFilePath) as fl:\n",
        "    for i, line in enumerate(fl):\n",
        "        businesses.append(json.loads(line))\n",
        "businesses = pd.DataFrame(businesses)\n",
        "businesses.head()"
      ]
    },
    {
      "cell_type": "code",
      "execution_count": null,
      "id": "f1248ace",
      "metadata": {
        "id": "f1248ace"
      },
      "outputs": [],
      "source": [
        "businesses.info()"
      ]
    },
    {
      "cell_type": "markdown",
      "id": "c0d16eb5",
      "metadata": {
        "id": "c0d16eb5"
      },
      "source": [
        "อ่านข้อมูล user"
      ]
    },
    {
      "cell_type": "code",
      "execution_count": null,
      "id": "746a5322",
      "metadata": {
        "id": "746a5322",
        "scrolled": true
      },
      "outputs": [],
      "source": [
        "users = []\n",
        "with open(myDirectory+userFilePath) as fl:\n",
        "    for i, line in enumerate(fl):\n",
        "        users.append(json.loads(line))\n",
        "users = pd.DataFrame(users)\n",
        "users.head()"
      ]
    },
    {
      "cell_type": "code",
      "execution_count": null,
      "id": "e4d952ca",
      "metadata": {
        "id": "e4d952ca",
        "scrolled": true
      },
      "outputs": [],
      "source": [
        "users.info()"
      ]
    },
    {
      "cell_type": "markdown",
      "id": "01df357a",
      "metadata": {
        "id": "01df357a"
      },
      "source": [
        "### รวมข้อมูล Reviews, Businesses, และ Users และสำรวจตัวแปรในข้อมูล"
      ]
    },
    {
      "cell_type": "code",
      "execution_count": null,
      "id": "d44fd9b7",
      "metadata": {
        "id": "d44fd9b7",
        "scrolled": true
      },
      "outputs": [],
      "source": [
        "# join reviews and businesses data using inner join\n",
        "df = pd.merge(reviews, businesses, on='business_id', suffixes=('_review', '_business'))\n",
        "# join reviews-businesses and users data using inner join\n",
        "df = pd.merge(df, users, on='user_id', suffixes=('_review_business', '_user'))\n",
        "df"
      ]
    },
    {
      "cell_type": "markdown",
      "id": "717332fa",
      "metadata": {
        "id": "717332fa"
      },
      "source": [
        "### ทำการสำรวจข้อมูลเบื้องต้น"
      ]
    },
    {
      "cell_type": "code",
      "execution_count": null,
      "id": "71c8662d",
      "metadata": {
        "id": "71c8662d"
      },
      "outputs": [],
      "source": [
        "df.info()"
      ]
    },
    {
      "cell_type": "markdown",
      "id": "5ca1e701",
      "metadata": {
        "id": "5ca1e701"
      },
      "source": [
        "สำรวจการแจกแจงของจำนวนรีวิวที่แต่ละ user ให้"
      ]
    },
    {
      "cell_type": "code",
      "execution_count": null,
      "id": "a33dfbf3",
      "metadata": {
        "id": "a33dfbf3"
      },
      "outputs": [],
      "source": [
        "# ----------------- Your code here -----------------\n"
      ]
    },
    {
      "cell_type": "markdown",
      "id": "7b58d281",
      "metadata": {
        "id": "7b58d281"
      },
      "source": [
        "สำรวจการแจกแจงของจำนวนรีวิวและจำนวนดาวที่แต่ละ business ได้รับ"
      ]
    },
    {
      "cell_type": "code",
      "execution_count": null,
      "id": "74cf9a52",
      "metadata": {
        "id": "74cf9a52"
      },
      "outputs": [],
      "source": [
        "# ----------------- Your code here -----------------\n"
      ]
    },
    {
      "cell_type": "markdown",
      "id": "54a0fdb4",
      "metadata": {
        "id": "54a0fdb4"
      },
      "source": [
        "มีธุรกิจกี่แบบ และธุรกิจในแต่ละแบบมีจำนวนเท่าไหร่"
      ]
    },
    {
      "cell_type": "markdown",
      "id": "fa014e8c",
      "metadata": {
        "id": "fa014e8c"
      },
      "source": [
        "* ลองแยก `categories` ออกเป็น category ย่อย แล้วสามารถนับหรือใช้ฟังก์ชัน Counter `from collections import Counter` ในการนับจำนวนหรือความถี่ของธุรกิจแต่ละแบบ \\\n",
        "ตัวอย่าง https://www.geeksforgeeks.org/counters-in-python-set-1/"
      ]
    },
    {
      "cell_type": "code",
      "execution_count": null,
      "id": "210231ed",
      "metadata": {
        "id": "210231ed"
      },
      "outputs": [],
      "source": [
        "# ----------------- Your code here -----------------\n"
      ]
    },
    {
      "cell_type": "markdown",
      "id": "8868bc29",
      "metadata": {
        "id": "8868bc29"
      },
      "source": [
        "### ให้ตั้งปัญหาหรือคำถาม และวิเคราะห์ข้อมูลเพื่อตอบคำถามดังกล่าว"
      ]
    },
    {
      "cell_type": "markdown",
      "id": "f1553505",
      "metadata": {
        "id": "f1553505"
      },
      "source": [
        "<ระบุจุดประสงค์ของการศึกษา>"
      ]
    },
    {
      "cell_type": "code",
      "execution_count": null,
      "id": "aba95b6b",
      "metadata": {
        "id": "aba95b6b"
      },
      "outputs": [],
      "source": [
        "# ----------------- Your code here -----------------\n"
      ]
    },
    {
      "cell_type": "code",
      "execution_count": null,
      "id": "5505f3ec",
      "metadata": {
        "id": "5505f3ec"
      },
      "outputs": [],
      "source": [
        "#----------------------------------------------\n",
        "# Your code starts here\n",
        "# create some data visualization for the analysis and your presentation\n",
        "\n",
        "\n",
        "\n",
        "\n"
      ]
    },
    {
      "cell_type": "markdown",
      "id": "8972909c",
      "metadata": {
        "id": "8972909c"
      },
      "source": [
        "## Problem 3: Retrieving Data from Internet"
      ]
    },
    {
      "cell_type": "markdown",
      "id": "5996d1d9",
      "metadata": {
        "id": "5996d1d9"
      },
      "source": [
        "ให้แต่ละกลุ่มคิดหัวข้อที่สนใจ และทำการดึงข้อมูลเกี่ยวกับหัวข้อที่สนใจผ่าน url ด้วยฟังก์ชัน `urllib.request.urlopen` จากแหล่งข้อมูลออนไลน์อย่างน้อย 10 แห่ง รวบรวมข้อมูลให้เป็นหนึ่งเดียว"
      ]
    },
    {
      "cell_type": "code",
      "execution_count": null,
      "id": "27fcc0c4",
      "metadata": {
        "id": "27fcc0c4"
      },
      "outputs": [],
      "source": [
        "#----------------------------------------------\n",
        "# Your code starts here\n"
      ]
    },
    {
      "cell_type": "markdown",
      "id": "19abc7d7",
      "metadata": {
        "id": "19abc7d7"
      },
      "source": [
        "เตรียมข้อมูลและทำความสะอาดข้อมูลด้วยการทำ lower case, tokenization, removing stopwords (as well as punctuations, unrelated symbols, etc.), stemming, lemmatization เป็นต้น"
      ]
    },
    {
      "cell_type": "code",
      "execution_count": null,
      "id": "ef193f51",
      "metadata": {
        "id": "ef193f51"
      },
      "outputs": [],
      "source": [
        "#----------------------------------------------\n",
        "# Your code starts here\n"
      ]
    },
    {
      "cell_type": "markdown",
      "id": "520565df",
      "metadata": {
        "id": "520565df"
      },
      "source": [
        "Text Mining: ทำการวิเคราะห์ข้อความที่รวบรวมมาได้ พร้อมทั้งแสดงการนำเสนอที่สร้างสรรค์"
      ]
    },
    {
      "cell_type": "code",
      "execution_count": null,
      "id": "cf6fe6a8",
      "metadata": {
        "id": "cf6fe6a8"
      },
      "outputs": [],
      "source": [
        "#----------------------------------------------\n",
        "# Your code starts here\n"
      ]
    },
    {
      "cell_type": "markdown",
      "id": "35649ff8",
      "metadata": {
        "id": "35649ff8"
      },
      "source": [
        "-----------------\n",
        "# เสร็จแล้ววววว 🥳\n",
        "\n",
        "สิ่งที่ต้องแนบส่ง:\n",
        "* Notebook File (ตัวอย่าง \"filename.ipynb\") หรือ Link to Google Colab ซึ่งมีผลลัพธ์จากการรันโค้ดแสดงทั้งหมด\n",
        "* Slides สำหรับการนำเสนอ **10** นาที ซึ่งประกอบไปด้วย\n",
        "    * ตอบคำถามต่าง ๆ ใน Notebook\n",
        "    * อธิบายวิธีการที่ใช้ และแสดง screenshots ของผลลัพธ์ที่ได้จาก Python Notebook โดยแสดงภาพและตาราง โดยไม่จำเป็นที่จะต้องนำเสนอ source code\n",
        "\n",
        "** Note: แต่ละกลุ่มส่งแค่ครั้งเดียว **"
      ]
    }
  ],
  "metadata": {
    "colab": {
      "provenance": [],
      "include_colab_link": true
    },
    "kernelspec": {
      "display_name": "Python 3 (ipykernel)",
      "language": "python",
      "name": "python3"
    },
    "language_info": {
      "codemirror_mode": {
        "name": "ipython",
        "version": 3
      },
      "file_extension": ".py",
      "mimetype": "text/x-python",
      "name": "python",
      "nbconvert_exporter": "python",
      "pygments_lexer": "ipython3",
      "version": "3.13.1"
    }
  },
  "nbformat": 4,
  "nbformat_minor": 5
}