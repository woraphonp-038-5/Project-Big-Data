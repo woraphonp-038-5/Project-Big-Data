{
  "cells": [
    {
      "cell_type": "markdown",
      "metadata": {
        "id": "view-in-github",
        "colab_type": "text"
      },
      "source": [
        "<a href=\"https://colab.research.google.com/github/woraphonp-038-5/Project-Big-Data/blob/main/Project2_ThaiBaan_Data_Analytics_and_Modeling.ipynb\" target=\"_parent\"><img src=\"https://colab.research.google.com/assets/colab-badge.svg\" alt=\"Open In Colab\"/></a>"
      ]
    },
    {
      "cell_type": "markdown",
      "id": "0e197877",
      "metadata": {
        "id": "0e197877"
      },
      "source": [
        "# Mini Project 2: Data Analytics and Modeling"
      ]
    },
    {
      "cell_type": "markdown",
      "id": "e813eff6",
      "metadata": {
        "id": "e813eff6"
      },
      "source": [
        "<img src=\"https://datarundown.com/wp-content/uploads/2023/05/Model-Data-Analytics.jpg\" width=\"400px\">"
      ]
    },
    {
      "cell_type": "markdown",
      "id": "68f61d7b",
      "metadata": {
        "id": "68f61d7b"
      },
      "source": [
        "ชื่อกลุ่ม: ...\n",
        "\n",
        "รายชื่อสมาชิก การแบ่งงาน และสัดส่วนในการทำงาน:\n",
        "1. ...\n",
        "2. ...\n",
        "3. ...\n",
        "4. ...\n",
        "\n",
        "กำหนดส่ง: ศุกร์ 24 ตุลาคม 2568  \n",
        "\n",
        "รายงานในชั้นเรียน: เสาร์ 25 ตุลาคม 2568\n",
        "\n",
        "** NOTE **\n",
        "* อย่าลืมบันทึกงานที่ทำในโน้ตบุ๊คนี้เป็นประจำขณะทำงาน มิเช่นนั้นงานที่ทำอยู่อาจสูญหายได้\n",
        "* **เริ่มทำแต่เนิ่น ๆ อย่ารอที่จะทำก่อนส่ง เพราะจะทำไม่เสร็จ เนื่องจากปัญหามากมายที่จะเกิดขึ้นระหว่างการทำงาน และอาจารย์ไม่รับปรึกษาในคืนก่อนส่ง**\n",
        "----------------------"
      ]
    },
    {
      "cell_type": "markdown",
      "id": "175bd542",
      "metadata": {
        "id": "175bd542"
      },
      "source": [
        "### เลือกชุดข้อมูล 1 ชุดจากข้อมูลที่กำหนดให้ต่อไปนี้\n",
        "* <b>MovieLens 1M Data Set<b>\n",
        "    * ข้อมูลชุดนี้มีข้อมูลเกี่ยวกับ movies, users, และ how they rate the movies\n",
        "    * สามารถดูรายละเอียดได้ที่ http://grouplens.org/datasets/movielens/\n",
        "    * Download the 1 million ratings data set from https://grouplens.org/datasets/movielens/1m/\n",
        "    * Merge all of the data into a single Pandas DataFrame. See\n",
        "        * https://pandas.pydata.org/docs/reference/api/pandas.DataFrame.merge.html\n",
        "    \n",
        "* <b>Walmart_Sales_Forecast<b>\n",
        "    * สามารถดูรายละเอียดได้ที่ https://github.com/Asikpalysik/Walmart_Sales_Forecast/tree/main\n",
        "    * ข้อมูลประกอบด้วยไฟล์ features.csv, stores.csv และ ข้อมูลยอดขาย (train.csv และ test.csv)\n",
        "    * ให้ใช้ข้อมูลจากทุกไฟล์ทุกอย่างประกอบกันในการวิเคราะห์\n",
        "    \n",
        "* <b>NYC Taxi Trips<b>\n",
        "    * ข้อมูลทริปของแท็กซี่ในเมืองนิวยอร์กจาก https://www.nyc.gov/site/tlc/about/tlc-trip-record-data.page\n",
        "    * ข้อมูลเก็บโดย The NYC Taxi and Limousine Commission (TLC) ประกอบด้วย pick-up and drop-off dates/times, pick-up and drop-off locations, trip distances, itemized fares, rate types, payment types, and driver-reported passenger counts\n",
        "    * นอกจากไฟล์ข้อมูลทริปของแท็กซี่แล้ว ยังมีข้อมูลเกี่ยวกับ zone ของพื้นที่ที่ให้บริการ และคำอธิบายข้อมูลในส่วนล่างสุดของหน้าเดียวกัน\n",
        "    * ให้ศึกษาข้อมูลการเดินทางของแท็กซี่เหลืองหรือแท็กซี่เขียวในช่วงหนึ่ง (เช่น 1 เดือน หรือ 1 ปีที่ผ่านมา เป็นต้น)\n",
        "    * ตัวอย่างการอ่านไฟล์ parquet\n",
        "    ```python\n",
        "    # install this module to read .parquet files\n",
        "    !pip install pyarrow\n",
        "    import pyarrow.parquet as pq\n",
        "    trips = pq.read_table('yellow_tripdata_2023-09.parquet')\n",
        "    trips = trips.to_pandas()\n",
        "    trips\n",
        "    ```\n",
        "    \n",
        "----------------------------------"
      ]
    },
    {
      "cell_type": "markdown",
      "id": "a9b4d1ad",
      "metadata": {
        "id": "a9b4d1ad"
      },
      "source": [
        "### ศึกษาข้อมูลที่เลือกใช้ แล้วทำการ\n",
        "* Tell story about data อธิบายลักษณะของข้อมูล ทำความเข้าใจเกี่ยวกับข้อมูลชุดนี้ ด้วยสถิติ และนำเสนอด้วยแผนภาพ แผนภูมิ หรือกราฟต่าง ๆ\n",
        "* ตั้ง<span style=\"color:red\">*ปัญหาหรือคำถามเชิงองค์กรหรือธุรกิจ*</span>ที่กลุ่มท่านสนใจเกี่ยวกับข้อมูลนี้ แล้วทำการคาดการณ์ (conjectures) เกี่ยวกับ<span style=\"color:red\">*ปัญหาหรือคำถาม*</span>ที่ได้ตั้งไว้อย่างน้อย 3 ข้อ แล้วสนับสนุนหรือปฏิเสธข้อคาดการณ์ด้วยการวิเคราะห์ข้อมูลหรือด้วย data visualization\n",
        "    * ปัญหาที่สนใจมีความสำคัญอย่างไร?\n",
        "    * ข้อคาดการณ์ของท่านจะนำไปสู่การแก้ไขปัญหาหรือตอบคำถามอย่างไร?\n",
        "* สร้างตัวแบบทำนายโดยใช้ข้อมูลที่เลือกในการตอบปัญหาหรือคำถาม\n",
        "    * prepare data\n",
        "    * feature engineering\n",
        "    * partition data (consider class if any)\n",
        "    * handle imbalance data\n",
        "    * build model\n",
        "      * hyperparameter tuning\n",
        "    * test model"
      ]
    },
    {
      "cell_type": "markdown",
      "id": "8fd04360",
      "metadata": {
        "id": "8fd04360"
      },
      "source": [
        "#### ปัญหา/คำถามที่สนใจคืออะไร\n",
        "...\n",
        "\n",
        "#### ปัญหา/คำถามที่สนใจมีความสำคัญอย่างไร?\n",
        "...\n",
        "\n",
        "#### ข้อคาดการณ์ของท่านจะนำไปสู่การแก้ไขปัญหาหรือตอบคำถาม\n",
        "1. ...\n",
        "2. ...\n",
        "3. ...\n",
        "4. (Optional)\n",
        "5. (Optional)"
      ]
    },
    {
      "cell_type": "markdown",
      "source": [
        "# 📘 **สรุปข้อมูล (SUMMARY)**\n",
        "\n",
        "ไฟล์เหล่านี้ประกอบด้วยข้อมูลการให้คะแนน **1,000,209 รายการ**\n",
        "จากผู้ใช้ **6,040 คน** ต่อภาพยนตร์ประมาณ **3,900 เรื่อง**\n",
        "ซึ่งเป็นผู้ใช้ที่สมัครสมาชิกกับ **MovieLens** ในปี **2000**\n",
        "\n",
        "---\n",
        "\n",
        "# ⚖️ **ข้อตกลงการใช้งาน (USAGE LICENSE)**\n",
        "\n",
        "มหาวิทยาลัยมินนิโซตา (University of Minnesota) และนักวิจัยที่เกี่ยวข้อง\n",
        "**ไม่สามารถรับรองความถูกต้องของข้อมูล ความเหมาะสมของข้อมูล**\n",
        "สำหรับการใช้งานใด ๆ หรือความถูกต้องของผลลัพธ์ที่ได้จากข้อมูลชุดนี้ได้\n",
        "\n",
        "ข้อมูลนี้สามารถใช้เพื่อ **วัตถุประสงค์ทางการวิจัย (research purposes)**\n",
        "โดยอยู่ภายใต้เงื่อนไขดังต่อไปนี้:\n",
        "\n",
        "1. ผู้ใช้ต้อง **ไม่กล่าวอ้างหรือสื่อเป็นนัยว่ามีการรับรอง** จาก\n",
        "   มหาวิทยาลัยมินนิโซตา หรือกลุ่มวิจัย GroupLens Research Group\n",
        "2. ผู้ใช้ต้อง **ระบุการอ้างอิง (citation)** เมื่อใช้ข้อมูลนี้ในการเผยแพร่ผลงาน\n",
        "3. ผู้ใช้ต้อง **ไม่แจกจ่ายข้อมูลซ้ำ** โดยไม่ได้รับอนุญาตแยกต่างหาก\n",
        "4. ผู้ใช้ต้อง **ไม่ใช้ข้อมูลเพื่อการค้า** หรือกิจกรรมที่สร้างรายได้\n",
        "   เว้นแต่ได้รับอนุญาตจากคณาจารย์ในโครงการ GroupLens Research\n",
        "\n",
        "📩 หากมีคำถามเพิ่มเติม โปรดติดต่อ **GroupLens**\n",
        "อีเมล: **[grouplens-info@cs.umn.edu](mailto:grouplens-info@cs.umn.edu)**\n",
        "\n",
        "---\n",
        "\n",
        "# 📚 **การอ้างอิง (CITATION)**\n",
        "\n",
        "เมื่อใช้ข้อมูลนี้ในงานวิจัยหรือสิ่งพิมพ์ ควรอ้างอิงดังนี้:\n",
        "\n",
        "> F. Maxwell Harper และ Joseph A. Konstan. (2015).\n",
        "> *The MovieLens Datasets: History and Context.*\n",
        "> วารสาร ACM Transactions on Interactive Intelligent Systems (TiiS), 5(4), บทความที่ 19, 19 หน้า.\n",
        "> DOI: [http://dx.doi.org/10.1145/2827872](http://dx.doi.org/10.1145/2827872)\n",
        "\n",
        "---\n",
        "\n",
        "# 🙏 **ขอบคุณ (ACKNOWLEDGEMENTS)**\n",
        "\n",
        "ขอขอบคุณ **Shyong Lam** และ **Jon Herlocker**\n",
        "ที่ช่วยทำความสะอาดและจัดเตรียมข้อมูลชุดนี้\n",
        "\n",
        "---\n",
        "\n",
        "# 🧠 **ข้อมูลเกี่ยวกับโครงการ GroupLens Research Project**\n",
        "\n",
        "**GroupLens Research Project** เป็นกลุ่มวิจัยใน\n",
        "ภาควิชาวิทยาการคอมพิวเตอร์และวิศวกรรม\n",
        "มหาวิทยาลัยมินนิโซตา (University of Minnesota)\n",
        "\n",
        "สมาชิกของโครงการมีส่วนร่วมในการวิจัยหลายด้าน เช่น\n",
        "\n",
        "* การกรองข้อมูล (Information Filtering)\n",
        "* การกรองแบบร่วมมือ (Collaborative Filtering)\n",
        "* ระบบแนะนำ (Recommender Systems)\n",
        "\n",
        "โครงการนี้นำโดย **ศาสตราจารย์ John Riedl** และ **Joseph Konstan**\n",
        "เริ่มศึกษาการกรองแบบร่วมมือในปี **1992**\n",
        "และเป็นที่รู้จักจากการทดลองระบบกรองข่าว Usenet อัตโนมัติทั่วโลกในปี **1996**\n",
        "\n",
        "ปัจจุบัน GroupLens ขยายขอบเขตการวิจัยให้ครอบคลุม\n",
        "**เทคนิคการกรองข้อมูลโดยรวม**, **วิธีการเชิงเนื้อหา (Content-based)**\n",
        "และการปรับปรุงเทคโนโลยีกรองแบบร่วมมือให้มีประสิทธิภาพยิ่งขึ้น\n",
        "\n",
        "🌐 เว็บไซต์โครงการ: [http://www.grouplens.org/](http://www.grouplens.org/)\n",
        "🌐 เว็บไซต์ระบบแนะนำภาพยนตร์: [http://www.movielens.org/](http://www.movielens.org/)\n",
        "\n",
        "---\n",
        "\n",
        "# 🎬 **รายละเอียดไฟล์ข้อมูล (FILE DESCRIPTIONS)**\n",
        "\n",
        "---\n",
        "\n",
        "## 1️⃣ **ไฟล์ ratings.dat**\n",
        "\n",
        "**โครงสร้างข้อมูล:**\n",
        "\n",
        "```\n",
        "UserID::MovieID::Rating::Timestamp\n",
        "```\n",
        "\n",
        "**รายละเอียด:**\n",
        "\n",
        "* UserID: หมายเลขผู้ใช้ (1 ถึง 6040)\n",
        "* MovieID: หมายเลขภาพยนตร์ (1 ถึง 3952)\n",
        "* Rating: คะแนนจาก 1 ถึง 5 ดาว (เต็มดาวเท่านั้น)\n",
        "* Timestamp: เวลาการให้คะแนน (หน่วยเป็นวินาที ตั้งแต่ epoch time)\n",
        "* ผู้ใช้ทุกคนให้คะแนนอย่างน้อย **20 เรื่อง**\n",
        "\n",
        "---\n",
        "\n",
        "## 2️⃣ **ไฟล์ users.dat**\n",
        "\n",
        "**โครงสร้างข้อมูล:**\n",
        "\n",
        "```\n",
        "UserID::Gender::Age::Occupation::Zip-code\n",
        "```\n",
        "\n",
        "**รายละเอียด:**\n",
        "\n",
        "* Gender:\n",
        "\n",
        "  * “M” = ผู้ชาย\n",
        "  * “F” = ผู้หญิง\n",
        "* Age (ช่วงอายุ):\n",
        "\n",
        "  ```\n",
        "  1: ต่ำกว่า 18 ปี\n",
        "  18: 18–24 ปี\n",
        "  25: 25–34 ปี\n",
        "  35: 35–44 ปี\n",
        "  45: 45–49 ปี\n",
        "  50: 50–55 ปี\n",
        "  56: 56 ปีขึ้นไป\n",
        "  ```\n",
        "* Occupation (อาชีพ):\n",
        "\n",
        "  ```\n",
        "  0: อื่น ๆ / ไม่ระบุ\n",
        "  1: ครู / นักวิชาการ\n",
        "  2: ศิลปิน\n",
        "  3: ธุรการ / งานสำนักงาน\n",
        "  4: นักศึกษามหาวิทยาลัย / บัณฑิตศึกษา\n",
        "  5: บริการลูกค้า\n",
        "  6: แพทย์ / สาธารณสุข\n",
        "  7: ผู้บริหาร / ผู้จัดการ\n",
        "  8: เกษตรกร\n",
        "  9: แม่บ้าน\n",
        "  10: นักเรียนมัธยม\n",
        "  11: ทนายความ\n",
        "  12: โปรแกรมเมอร์\n",
        "  13: ผู้เกษียณอายุ\n",
        "  14: ฝ่ายขาย / การตลาด\n",
        "  15: นักวิทยาศาสตร์\n",
        "  16: อาชีพอิสระ\n",
        "  17: ช่างเทคนิค / วิศวกร\n",
        "  18: ช่างฝีมือ / ช่างไม้\n",
        "  19: ว่างงาน\n",
        "  20: นักเขียน\n",
        "  ```\n",
        "* ข้อมูลประชากรทั้งหมดมาจากการกรอกโดยสมัครใจของผู้ใช้\n",
        "  และ **ไม่ได้ตรวจสอบความถูกต้อง**\n",
        "\n",
        "---\n",
        "\n",
        "## 3️⃣ **ไฟล์ movies.dat**\n",
        "\n",
        "**โครงสร้างข้อมูล:**\n",
        "\n",
        "```\n",
        "MovieID::Title::Genres\n",
        "```\n",
        "\n",
        "**รายละเอียด:**\n",
        "\n",
        "* Title: ชื่อภาพยนตร์ (รวมปีที่ออกฉายตาม IMDb)\n",
        "* Genres: ประเภทของภาพยนตร์ (คั่นด้วย “|”)\n",
        "  เช่น `Action|Comedy|Romance`\n",
        "* หมวดหมู่ภาพยนตร์ที่ใช้มีดังนี้:\n",
        "\n",
        "  ```\n",
        "  Action, Adventure, Animation, Children's, Comedy, Crime,\n",
        "  Documentary, Drama, Fantasy, Film-Noir, Horror, Musical,\n",
        "  Mystery, Romance, Sci-Fi, Thriller, War, Western\n",
        "  ```\n",
        "* หมายเลขภาพยนตร์บางรายการอาจเป็นข้อมูลซ้ำหรือข้อมูลทดสอบ\n",
        "* รายการภาพยนตร์ส่วนใหญ่ถูกป้อนด้วยมือ อาจมีข้อผิดพลาดเล็กน้อย\n",
        "\n",
        "---\n",
        "\n",
        "# 🗂️ **สรุปข้อมูลโดยรวม**\n",
        "\n",
        "| รายการ           | รายละเอียด                                 |\n",
        "| :--------------- | :----------------------------------------- |\n",
        "| จำนวนผู้ใช้      | 6,040 คน                                   |\n",
        "| จำนวนภาพยนตร์    | ประมาณ 3,900 เรื่อง                        |\n",
        "| จำนวนการให้คะแนน | 1,000,209 รายการ                           |\n",
        "| ช่วงคะแนน        | 1 – 5 ดาว                                  |\n",
        "| ปีเริ่มต้นข้อมูล | 2000                                       |\n",
        "| เว็บไซต์โครงการ  | [movielens.org](https://www.movielens.org) |\n",
        "| แหล่งอ้างอิง     | Harper & Konstan (2015), ACM TiiS          |\n",
        "\n",
        "---\n",
        "\n",
        "ต้องการให้ผมช่วยทำ **Mind Map (ผังภาพสรุปภาษาไทย)** จากเนื้อหานี้ไหมครับ? จะเห็นภาพรวมของโครงสร้างข้อมูลทั้งสามไฟล์และความสัมพันธ์ระหว่างกันแบบเข้าใจง่ายในหน้าเดียวเลยครับ 🌐\n"
      ],
      "metadata": {
        "id": "A9SXaNjXE2c7"
      },
      "id": "A9SXaNjXE2c7"
    },
    {
      "cell_type": "markdown",
      "id": "2d96f1c0",
      "metadata": {
        "id": "2d96f1c0"
      },
      "source": [
        "## Data Loading"
      ]
    },
    {
      "cell_type": "code",
      "execution_count": null,
      "id": "24777ecb",
      "metadata": {
        "id": "24777ecb"
      },
      "outputs": [],
      "source": [
        "# Load data\n",
        "\n",
        "# Merge data if necessary\n"
      ]
    },
    {
      "cell_type": "markdown",
      "id": "4e918b6a",
      "metadata": {
        "id": "4e918b6a"
      },
      "source": [
        "## Data Preparation"
      ]
    },
    {
      "cell_type": "code",
      "execution_count": null,
      "id": "4bef1862",
      "metadata": {
        "id": "4bef1862"
      },
      "outputs": [],
      "source": [
        "# Explore variables and check data quality\n",
        "\n",
        "# Handle missing values, outliers, and noises\n",
        "\n",
        "# Perform feature engineering (optional)\n"
      ]
    },
    {
      "cell_type": "markdown",
      "id": "80b0633b",
      "metadata": {
        "id": "80b0633b"
      },
      "source": [
        "## Explore Data"
      ]
    },
    {
      "cell_type": "code",
      "execution_count": null,
      "id": "c6f527df",
      "metadata": {
        "id": "c6f527df"
      },
      "outputs": [],
      "source": [
        "# Descriptive statistics\n",
        "\n",
        "# Data visualization\n",
        "# Target variable analysis: examine how each feature correlates with or impacts the target/interested variable\n"
      ]
    },
    {
      "cell_type": "markdown",
      "id": "739ec323",
      "metadata": {
        "id": "739ec323"
      },
      "source": [
        "## Data Modeling"
      ]
    },
    {
      "cell_type": "code",
      "execution_count": null,
      "id": "c78039b5",
      "metadata": {
        "id": "c78039b5"
      },
      "outputs": [],
      "source": [
        "# Partition data\n",
        "\n",
        "# Handle imbalance data (optional)\n",
        "\n",
        "# Model selection and tuning\n",
        "\n",
        "# Evaluate models\n"
      ]
    },
    {
      "cell_type": "markdown",
      "id": "886115e7",
      "metadata": {
        "id": "886115e7"
      },
      "source": [
        "#### สรุปผลที่ได้\n",
        "..."
      ]
    },
    {
      "cell_type": "markdown",
      "id": "6a085636",
      "metadata": {
        "id": "6a085636"
      },
      "source": [
        "-----------------\n",
        "# เสร็จแล้ววววว 🥳\n",
        "\n",
        "สิ่งที่ต้องแนบส่ง:\n",
        "* Notebook File (ตัวอย่าง \"filename.ipynb\") หรือ Link to Google Colab / GitHub ซึ่งมีผลลัพธ์จากการรันโค้ดแสดงทั้งหมด\n",
        "* Slides สำหรับการนำเสนอ **10** นาที ซึ่งประกอบไปด้วย\n",
        "    * Data Description: อธิบายข้อมูลที่ใช้\n",
        "    * Data Preparation: การเตรียมข้อมูลก่อนวิเคราะห์\n",
        "    * Motivation: ปัญหาหรือคำถามที่ตั้ง ทำไมถึงสนใจที่จะทำงานในเรื่องนี้\n",
        "    * Communicating Results (with figure, table, etc.): ผลที่ได้จากการศึกษา โดยระบุแนวทางที่ใช้ที่ทำให้เกิดผลลัพธ์ดังกล่าวด้วย\n",
        "        โดยไม่ต้องนำเสนอ source code ผลประกอบด้วย 2 ส่วนสำคัญ จาก\n",
        "        * Conjectures >= 3 ข้อ\n",
        "        * Machine learning models\n",
        "    * Conclusion: สรุปผลที่ได้จากการวิเคราะห์ข้อมูล\n",
        "** Note: แต่ละกลุ่มส่งแต่ละไฟล์ครั้งเดียว **\n",
        "---------------------"
      ]
    }
  ],
  "metadata": {
    "kernelspec": {
      "display_name": "Python 3 (ipykernel)",
      "language": "python",
      "name": "python3"
    },
    "language_info": {
      "codemirror_mode": {
        "name": "ipython",
        "version": 3
      },
      "file_extension": ".py",
      "mimetype": "text/x-python",
      "name": "python",
      "nbconvert_exporter": "python",
      "pygments_lexer": "ipython3",
      "version": "3.8.8"
    },
    "colab": {
      "provenance": [],
      "include_colab_link": true
    }
  },
  "nbformat": 4,
  "nbformat_minor": 5
}